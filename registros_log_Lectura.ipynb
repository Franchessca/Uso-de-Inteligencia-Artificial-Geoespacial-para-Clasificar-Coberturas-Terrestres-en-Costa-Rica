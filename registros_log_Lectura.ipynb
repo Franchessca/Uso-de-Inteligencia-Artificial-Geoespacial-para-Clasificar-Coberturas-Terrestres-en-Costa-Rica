{
 "cells": [
  {
   "cell_type": "markdown",
   "id": "b240c165",
   "metadata": {},
   "source": [
    "# Leer registros de pruebas"
   ]
  },
  {
   "cell_type": "markdown",
   "id": "67b94741",
   "metadata": {},
   "source": [
    "## Carpeta de Pruebas"
   ]
  },
  {
   "cell_type": "code",
   "execution_count": null,
   "id": "3a8beda0",
   "metadata": {},
   "outputs": [
    {
     "name": "stdout",
     "output_type": "stream",
     "text": [
      "             timestamp  carpeta                                  script  \\\n",
      "0  2025-09-18T19:39:24  Pruebas   20250901_PruebasEntrenamientoRF.ipynb   \n",
      "1  2025-09-18T19:51:11  Pruebas   20250901_PruebasEntrenamientoRF.ipynb   \n",
      "2  2025-09-19T11:23:55  Pruebas          20250901_ConversionTINTO.ipynb   \n",
      "3  2025-09-19T14:59:15  Pruebas          20250901_ConversionTINTO.ipynb   \n",
      "4  2025-09-19T15:01:57  Pruebas  20250901_PruebasEntrenamientoXGB.ipynb   \n",
      "\n",
      "      algoritmo                     dataset  clases_removidas  seed  n_train  \\\n",
      "0  RandomForest   PuntosMuestra_CR_2023.csv               2.0    42  20439.0   \n",
      "1  RandomForest   PuntosMuestra_CR_2023.csv               2.0    42  20439.0   \n",
      "2     TINTO_PCA  PuntosMuestra_CR_tinto.csv               NaN     1      NaN   \n",
      "3     TINTO_PCA  PuntosMuestra_CR_tinto.csv               NaN     1      NaN   \n",
      "4       XGBoost   PuntosMuestra_CR_2023.csv               2.0    42  20439.0   \n",
      "\n",
      "   n_test  n_features  num_classes  fit_seconds  pred_seconds  ms_per_sample  \\\n",
      "0  8760.0          13            6       0.9076        0.0620          0.007   \n",
      "1  8760.0          13            6       1.0655        0.0627          0.007   \n",
      "2     NaN          13            7      37.3767        0.0000          1.280   \n",
      "3     NaN          13            7      41.3341        0.0000          1.416   \n",
      "4  8760.0          13            6       2.8462        0.0255          0.003   \n",
      "\n",
      "       OA  F1_macro                                        system_info  \n",
      "0  0.8826    0.8161  {\"host\": \"IALB18\", \"user\": \"Fran\", \"os\": \"Wind...  \n",
      "1  0.8826    0.8161  {\"host\": \"IALB18\", \"user\": \"Fran\", \"os\": \"Wind...  \n",
      "2     NaN       NaN  {\"host\": \"LAPTOP-QCTS7GMV\", \"user\": \"Francessc...  \n",
      "3     NaN       NaN  {\"host\": \"IALB18\", \"user\": \"Fran\", \"os\": \"Wind...  \n",
      "4  0.8871    0.8290  {\"host\": \"IALB18\", \"user\": \"Fran\", \"os\": \"Wind...  \n",
      "Total experimentos: 5\n",
      "['RandomForest' 'TINTO_PCA' 'XGBoost']\n"
     ]
    }
   ],
   "source": [
    "import pandas as pd\n",
    "import os\n",
    "\n",
    "ruta_carpeta_raiz = os.getcwd()\n",
    "carpeta_leer = \"Pruebas\"\n",
    "registros_path = os.path.join(ruta_carpeta_raiz, carpeta_leer, \"registros_log.csv\")\n",
    "df = pd.read_csv(registros_path)\n",
    "\n",
    "# Vista rápida de las 5 ultimas filas\n",
    "print(df.tail())\n",
    "\n",
    "# Ver cuántos experimentos guardaste\n",
    "print(\"Total experimentos:\", len(df))\n",
    "\n",
    "# Ver qué algoritmos probaste\n",
    "print(df[\"algoritmo\"].unique())"
   ]
  }
 ],
 "metadata": {
  "kernelspec": {
   "display_name": "tintoenv",
   "language": "python",
   "name": "python3"
  },
  "language_info": {
   "codemirror_mode": {
    "name": "ipython",
    "version": 3
   },
   "file_extension": ".py",
   "mimetype": "text/x-python",
   "name": "python",
   "nbconvert_exporter": "python",
   "pygments_lexer": "ipython3",
   "version": "3.11.13"
  }
 },
 "nbformat": 4,
 "nbformat_minor": 5
}
