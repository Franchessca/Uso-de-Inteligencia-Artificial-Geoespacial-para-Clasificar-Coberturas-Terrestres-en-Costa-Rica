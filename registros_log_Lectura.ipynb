{
 "cells": [
  {
   "cell_type": "markdown",
   "id": "b240c165",
   "metadata": {},
   "source": [
    "# Leer registros de pruebas"
   ]
  },
  {
   "cell_type": "markdown",
   "id": "67b94741",
   "metadata": {},
   "source": [
    "## Carpeta de Pruebas"
   ]
  },
  {
   "cell_type": "code",
   "execution_count": null,
   "id": "3a8beda0",
   "metadata": {},
   "outputs": [
    {
     "name": "stdout",
     "output_type": "stream",
     "text": [
      "             timestamp  carpeta                                  script  \\\n",
      "5  2025-09-19T17:03:46  Pruebas  20250901_PruebasEntrenamientoDNN.ipynb   \n",
      "6  2025-09-19T17:22:25  Pruebas   20250901_PruebasEntrenamientoRF.ipynb   \n",
      "7  2025-09-19T17:22:44  Pruebas  20250901_PruebasEntrenamientoXGB.ipynb   \n",
      "8  2025-09-19T17:23:12  Pruebas  20250901_PruebasEntrenamientoDNN.ipynb   \n",
      "9  2025-09-19T17:58:06  Pruebas  20250901_PruebasEntrenamientoViT.ipynb   \n",
      "\n",
      "               algoritmo                                  dataset  \\\n",
      "5                DNN_MLP                PuntosMuestra_CR_2023.csv   \n",
      "6           RandomForest                PuntosMuestra_CR_2023.csv   \n",
      "7                XGBoost                PuntosMuestra_CR_2023.csv   \n",
      "8                DNN_MLP                PuntosMuestra_CR_2023.csv   \n",
      "9  ViT_tiny_linear_probe  PuntosMuestra_CR_tinto_synthetic_images   \n",
      "\n",
      "   clases_removidas  seed  n_train  n_test  n_features  num_classes  \\\n",
      "5               2.0    42   8760.0  8760.0        13.0            6   \n",
      "6               2.0    42  20439.0  8760.0        13.0            6   \n",
      "7               2.0    42  20439.0  8760.0        13.0            6   \n",
      "8               2.0    42   8760.0  8760.0        13.0            6   \n",
      "9               2.0    42  20439.0  8760.0         NaN            6   \n",
      "\n",
      "   fit_seconds  pred_seconds  ms_per_sample      OA  F1_macro  \\\n",
      "5       6.5860        0.0389          0.004  0.8768    0.8093   \n",
      "6       0.9678        0.0608          0.007  0.8826    0.8161   \n",
      "7       2.7672        0.0234          0.003  0.8871    0.8290   \n",
      "8       6.3946        0.0398          0.005  0.8737    0.7945   \n",
      "9     907.7977      375.9521         42.917  0.5210    0.1142   \n",
      "\n",
      "                                         system_info  \n",
      "5  {\"host\": \"IALB18\", \"user\": \"Fran\", \"os\": \"Wind...  \n",
      "6  {\"host\": \"IALB18\", \"user\": \"Fran\", \"os\": \"Wind...  \n",
      "7  {\"host\": \"IALB18\", \"user\": \"Fran\", \"os\": \"Wind...  \n",
      "8  {\"host\": \"IALB18\", \"user\": \"Fran\", \"os\": \"Wind...  \n",
      "9  {\"host\": \"IALB18\", \"user\": \"Fran\", \"os\": \"Wind...  \n",
      "Total experimentos: 10\n",
      "['RandomForest' 'TINTO_PCA' 'XGBoost' 'DNN_MLP' 'ViT_tiny_linear_probe']\n"
     ]
    }
   ],
   "source": [
    "import pandas as pd\n",
    "import os\n",
    "\n",
    "ruta_carpeta_raiz = os.getcwd()\n",
    "carpeta_leer = \"Pruebas\"\n",
    "registros_path = os.path.join(ruta_carpeta_raiz, carpeta_leer, \"registros_log.csv\")\n",
    "df = pd.read_csv(registros_path)\n",
    "\n",
    "# Vista rápida de las 5 ultimas\n",
    "print(df.tail())\n",
    "\n",
    "# Ver cuántos experimentos guardaste\n",
    "print(\"Total experimentos:\", len(df))\n",
    "\n",
    "# Ver qué algoritmos probaste\n",
    "print(df[\"algoritmo\"].unique())"
   ]
  }
 ],
 "metadata": {
  "kernelspec": {
   "display_name": "tintoenv",
   "language": "python",
   "name": "python3"
  },
  "language_info": {
   "codemirror_mode": {
    "name": "ipython",
    "version": 3
   },
   "file_extension": ".py",
   "mimetype": "text/x-python",
   "name": "python",
   "nbconvert_exporter": "python",
   "pygments_lexer": "ipython3",
   "version": "3.11.13"
  }
 },
 "nbformat": 4,
 "nbformat_minor": 5
}
