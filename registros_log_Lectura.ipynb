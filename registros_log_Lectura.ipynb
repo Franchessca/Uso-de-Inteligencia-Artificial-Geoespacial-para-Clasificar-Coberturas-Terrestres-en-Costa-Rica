{
 "cells": [
  {
   "cell_type": "markdown",
   "id": "b240c165",
   "metadata": {},
   "source": [
    "# Leer registros de pruebas"
   ]
  },
  {
   "cell_type": "markdown",
   "id": "67b94741",
   "metadata": {},
   "source": [
    "## Carpeta de \"Pruebas\""
   ]
  },
  {
   "cell_type": "code",
   "execution_count": 1,
   "id": "3a8beda0",
   "metadata": {},
   "outputs": [
    {
     "name": "stdout",
     "output_type": "stream",
     "text": [
      "             timestamp  carpeta                                  script              algoritmo                                  dataset  clases_removidas  seed  n_train  n_test  n_features  num_classes  fit_seconds  pred_seconds  ms_per_sample      OA  F1_macro    host machine                                          processor  cpu_count_logical  cpu_count_physical  ram_gb\n",
      "5  2025-09-19T17:03:46  Pruebas  20250901_PruebasEntrenamientoDNN.ipynb                DNN_MLP                PuntosMuestra_CR_2023.csv               2.0    42   8760.0  8760.0        13.0            6       6.5860        0.0389          0.004  0.8768    0.8093  IALB18   AMD64  Intel64 Family 6 Model 183 Stepping 1, Genuine...                 32                  24  127.71\n",
      "6  2025-09-19T17:22:25  Pruebas   20250901_PruebasEntrenamientoRF.ipynb           RandomForest                PuntosMuestra_CR_2023.csv               2.0    42  20439.0  8760.0        13.0            6       0.9678        0.0608          0.007  0.8826    0.8161  IALB18   AMD64  Intel64 Family 6 Model 183 Stepping 1, Genuine...                 32                  24  127.71\n",
      "7  2025-09-19T17:22:44  Pruebas  20250901_PruebasEntrenamientoXGB.ipynb                XGBoost                PuntosMuestra_CR_2023.csv               2.0    42  20439.0  8760.0        13.0            6       2.7672        0.0234          0.003  0.8871    0.8290  IALB18   AMD64  Intel64 Family 6 Model 183 Stepping 1, Genuine...                 32                  24  127.71\n",
      "8  2025-09-19T17:23:12  Pruebas  20250901_PruebasEntrenamientoDNN.ipynb                DNN_MLP                PuntosMuestra_CR_2023.csv               2.0    42   8760.0  8760.0        13.0            6       6.3946        0.0398          0.005  0.8737    0.7945  IALB18   AMD64  Intel64 Family 6 Model 183 Stepping 1, Genuine...                 32                  24  127.71\n",
      "9  2025-09-19T17:58:06  Pruebas  20250901_PruebasEntrenamientoViT.ipynb  ViT_tiny_linear_probe  PuntosMuestra_CR_tinto_synthetic_images               2.0    42  20439.0  8760.0         NaN            6     907.7977      375.9521         42.917  0.5210    0.1142  IALB18   AMD64  Intel64 Family 6 Model 183 Stepping 1, Genuine...                 32                  24  127.71\n",
      "\n",
      "Total experimentos: 10\n",
      "\n",
      "Algoritmos utilizados:\n",
      "['RandomForest' 'TINTO_PCA' 'XGBoost' 'DNN_MLP' 'ViT_tiny_linear_probe']\n"
     ]
    }
   ],
   "source": [
    "import pandas as pd\n",
    "import os, json\n",
    "\n",
    "nombre_carpeta = 'Pruebas'\n",
    "ruta_carpeta_raiz = os.getcwd()\n",
    "registros_path = os.path.join(ruta_carpeta_raiz, \"registros_log.csv\")\n",
    "df = pd.read_csv(registros_path)\n",
    "\n",
    "# Expandir system_info en varias columnas\n",
    "system_info_df = df[\"system_info\"].apply(json.loads).apply(pd.Series)\n",
    "cols_equipo = [\"host\", \"machine\", \"processor\", \"cpu_count_logical\", \"cpu_count_physical\", \"ram_gb\"]\n",
    "system_info_equipo = system_info_df[cols_equipo]\n",
    "\n",
    "# Unir al dataframe original\n",
    "df_expandido = pd.concat([df.drop(columns=[\"system_info\"]), system_info_equipo], axis=1)\n",
    "\n",
    "pd.set_option(\"display.max_columns\", None)  # ver todas las columnas\n",
    "pd.set_option(\"display.width\", 2000)        # ajustar ancho\n",
    "# pd.set_option(\"display.max_rows\", 50)       # cambia 50 por el número de filas que quieras ver\n",
    "print(df_expandido[df['carpeta']== nombre_carpeta].tail())\n",
    "\n",
    "# Ver cuántos experimentos guardaste\n",
    "print(\"\\nTotal experimentos:\", len(df[df['carpeta']== nombre_carpeta]))\n",
    "\n",
    "# Ver qué algoritmos probaste\n",
    "print(\"\\nAlgoritmos utilizados:\")\n",
    "print(df[df['carpeta'] == nombre_carpeta]['algoritmo'].unique())"
   ]
  },
  {
   "cell_type": "markdown",
   "id": "88bd2873",
   "metadata": {},
   "source": [
    "## Leer carpeta \"Pruebas_Balanceadas\""
   ]
  },
  {
   "cell_type": "code",
   "execution_count": 2,
   "id": "f973247e",
   "metadata": {},
   "outputs": [
    {
     "name": "stdout",
     "output_type": "stream",
     "text": [
      "              timestamp              carpeta                                  script     algoritmo                    dataset  clases_removidas  seed  n_train  n_test  n_features  num_classes  fit_seconds  pred_seconds  ms_per_sample      OA  F1_macro    host machine                                          processor  cpu_count_logical  cpu_count_physical  ram_gb\n",
      "10  2025-09-26T13:07:04  Pruebas_Balanceadas     20250901_PruebasBalanceadasRF.ipynb  RandomForest  PuntosMuestra_CR_2023.csv               2.0    42   4692.0  2016.0        13.0            6       0.3729        0.0502          0.025  0.8234    0.8233  IALB18   AMD64  Intel64 Family 6 Model 183 Stepping 1, Genuine...                 32                  24  127.71\n",
      "11  2025-09-26T13:07:19  Pruebas_Balanceadas  20250901_PruebasEntrenamientoXGB.ipynb       XGBoost  PuntosMuestra_CR_2023.csv               2.0    42   4692.0  2016.0        13.0            6       1.6466        0.0058          0.003  0.8393    0.8391  IALB18   AMD64  Intel64 Family 6 Model 183 Stepping 1, Genuine...                 32                  24  127.71\n",
      "\n",
      "Total experimentos: 2\n",
      "\n",
      "Algoritmos utilizados:\n",
      "['RandomForest' 'XGBoost']\n"
     ]
    }
   ],
   "source": [
    "import pandas as pd\n",
    "import os\n",
    "\n",
    "nombre_carpeta = 'Pruebas_Balanceadas'\n",
    "ruta_carpeta_raiz = os.getcwd()\n",
    "registros_path = os.path.join(ruta_carpeta_raiz, \"registros_log.csv\")\n",
    "df = pd.read_csv(registros_path)\n",
    "\n",
    "# Expandir system_info en varias columnas\n",
    "system_info_df = df[\"system_info\"].apply(json.loads).apply(pd.Series)\n",
    "cols_equipo = [\"host\", \"machine\", \"processor\", \"cpu_count_logical\", \"cpu_count_physical\", \"ram_gb\"]\n",
    "system_info_equipo = system_info_df[cols_equipo]\n",
    "\n",
    "# Unir al dataframe original\n",
    "df_expandido = pd.concat([df.drop(columns=[\"system_info\"]), system_info_equipo], axis=1)\n",
    "\n",
    "pd.set_option(\"display.max_columns\", None)  # ver todas las columnas\n",
    "pd.set_option(\"display.width\", 2000)        # ajustar ancho\n",
    "# pd.set_option(\"display.max_rows\", 50)       # cambia 50 por el número de filas que quieras ver\n",
    "print(df_expandido[df['carpeta']== nombre_carpeta].tail())\n",
    "\n",
    "# Ver cuántos experimentos guardaste\n",
    "print(\"\\nTotal experimentos:\", len(df[df['carpeta']== nombre_carpeta]))\n",
    "\n",
    "# Ver qué algoritmos probaste\n",
    "print(\"\\nAlgoritmos utilizados:\")\n",
    "print(df[df['carpeta'] == nombre_carpeta]['algoritmo'].unique())"
   ]
  }
 ],
 "metadata": {
  "kernelspec": {
   "display_name": "tintoenv",
   "language": "python",
   "name": "python3"
  },
  "language_info": {
   "codemirror_mode": {
    "name": "ipython",
    "version": 3
   },
   "file_extension": ".py",
   "mimetype": "text/x-python",
   "name": "python",
   "nbconvert_exporter": "python",
   "pygments_lexer": "ipython3",
   "version": "3.11.13"
  }
 },
 "nbformat": 4,
 "nbformat_minor": 5
}
