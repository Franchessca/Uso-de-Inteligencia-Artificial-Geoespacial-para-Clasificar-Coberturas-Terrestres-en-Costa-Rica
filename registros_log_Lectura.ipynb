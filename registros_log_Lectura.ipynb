{
 "cells": [
  {
   "cell_type": "markdown",
   "id": "b240c165",
   "metadata": {},
   "source": [
    "# Leer registros de pruebas"
   ]
  },
  {
   "cell_type": "markdown",
   "id": "67b94741",
   "metadata": {},
   "source": [
    "## Carpeta de Pruebas"
   ]
  },
  {
   "cell_type": "code",
   "execution_count": 1,
   "id": "3a8beda0",
   "metadata": {},
   "outputs": [
    {
     "name": "stdout",
     "output_type": "stream",
     "text": [
      "             timestamp  carpeta                                  script  \\\n",
      "4  2025-09-19T15:01:57  Pruebas  20250901_PruebasEntrenamientoXGB.ipynb   \n",
      "5  2025-09-19T17:03:46  Pruebas  20250901_PruebasEntrenamientoDNN.ipynb   \n",
      "6  2025-09-19T17:22:25  Pruebas   20250901_PruebasEntrenamientoRF.ipynb   \n",
      "7  2025-09-19T17:22:44  Pruebas  20250901_PruebasEntrenamientoXGB.ipynb   \n",
      "8  2025-09-19T17:23:12  Pruebas  20250901_PruebasEntrenamientoDNN.ipynb   \n",
      "\n",
      "      algoritmo                    dataset  clases_removidas  seed  n_train  \\\n",
      "4       XGBoost  PuntosMuestra_CR_2023.csv               2.0    42  20439.0   \n",
      "5       DNN_MLP  PuntosMuestra_CR_2023.csv               2.0    42   8760.0   \n",
      "6  RandomForest  PuntosMuestra_CR_2023.csv               2.0    42  20439.0   \n",
      "7       XGBoost  PuntosMuestra_CR_2023.csv               2.0    42  20439.0   \n",
      "8       DNN_MLP  PuntosMuestra_CR_2023.csv               2.0    42   8760.0   \n",
      "\n",
      "   n_test  n_features  num_classes  fit_seconds  pred_seconds  ms_per_sample  \\\n",
      "4  8760.0          13            6       2.8462        0.0255          0.003   \n",
      "5  8760.0          13            6       6.5860        0.0389          0.004   \n",
      "6  8760.0          13            6       0.9678        0.0608          0.007   \n",
      "7  8760.0          13            6       2.7672        0.0234          0.003   \n",
      "8  8760.0          13            6       6.3946        0.0398          0.005   \n",
      "\n",
      "       OA  F1_macro                                        system_info  \n",
      "4  0.8871    0.8290  {\"host\": \"IALB18\", \"user\": \"Fran\", \"os\": \"Wind...  \n",
      "5  0.8768    0.8093  {\"host\": \"IALB18\", \"user\": \"Fran\", \"os\": \"Wind...  \n",
      "6  0.8826    0.8161  {\"host\": \"IALB18\", \"user\": \"Fran\", \"os\": \"Wind...  \n",
      "7  0.8871    0.8290  {\"host\": \"IALB18\", \"user\": \"Fran\", \"os\": \"Wind...  \n",
      "8  0.8737    0.7945  {\"host\": \"IALB18\", \"user\": \"Fran\", \"os\": \"Wind...  \n",
      "Total experimentos: 9\n",
      "['RandomForest' 'TINTO_PCA' 'XGBoost' 'DNN_MLP']\n"
     ]
    }
   ],
   "source": [
    "import pandas as pd\n",
    "import os\n",
    "\n",
    "ruta_carpeta_raiz = os.getcwd()\n",
    "carpeta_leer = \"Pruebas\"\n",
    "registros_path = os.path.join(ruta_carpeta_raiz, carpeta_leer, \"registros_log.csv\")\n",
    "df = pd.read_csv(registros_path)\n",
    "\n",
    "# Vista rápida de las 5 ultimas filas\n",
    "print(df.tail())\n",
    "\n",
    "# Ver cuántos experimentos guardaste\n",
    "print(\"Total experimentos:\", len(df))\n",
    "\n",
    "# Ver qué algoritmos probaste\n",
    "print(df[\"algoritmo\"].unique())"
   ]
  }
 ],
 "metadata": {
  "kernelspec": {
   "display_name": "tintoenv",
   "language": "python",
   "name": "python3"
  },
  "language_info": {
   "codemirror_mode": {
    "name": "ipython",
    "version": 3
   },
   "file_extension": ".py",
   "mimetype": "text/x-python",
   "name": "python",
   "nbconvert_exporter": "python",
   "pygments_lexer": "ipython3",
   "version": "3.11.13"
  }
 },
 "nbformat": 4,
 "nbformat_minor": 5
}
