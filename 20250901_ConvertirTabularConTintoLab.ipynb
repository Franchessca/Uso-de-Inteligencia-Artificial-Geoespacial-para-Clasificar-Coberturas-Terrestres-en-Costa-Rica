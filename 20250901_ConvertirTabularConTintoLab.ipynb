{
 "cells": [
  {
   "cell_type": "markdown",
   "metadata": {},
   "source": [
    "# Modelo DNN"
   ]
  },
  {
   "cell_type": "code",
   "execution_count": 1,
   "metadata": {},
   "outputs": [],
   "source": [
    "import pandas as pd\n",
    "import os"
   ]
  },
  {
   "cell_type": "code",
   "execution_count": 2,
   "metadata": {},
   "outputs": [],
   "source": [
    "ruta_carpeta_actual = os.getcwd()\n",
    "csv_path  = os.path.join(ruta_carpeta_actual, \"PuntosMuestra_CR_2023.csv\")\n",
    "df = pd.read_csv(csv_path).dropna()"
   ]
  },
  {
   "cell_type": "code",
   "execution_count": 3,
   "metadata": {},
   "outputs": [],
   "source": [
    "# Mover CATEGORIA al final\n",
    "cols = [c for c in df.columns if c != \"CATEGORIA\"] + [\"CATEGORIA\"]\n",
    "df = df[cols]\n",
    "\n",
    "# Quitar columnas no predictoras (lon/lat/year) si no las quieres en la imagen\n",
    "drop_cols = [\"lon\", \"lat\", \"year\"]\n",
    "df = df[[c for c in df.columns if c not in drop_cols or c == \"CATEGORIA\"]]"
   ]
  },
  {
   "cell_type": "code",
   "execution_count": 4,
   "metadata": {},
   "outputs": [
    {
     "name": "stdout",
     "output_type": "stream",
     "text": [
      "['B2', 'B3', 'B4', 'B8', 'B11', 'NDVI', 'EVI2', 'GCVI', 'MNDWI', 'NDMI', 'SR', 'R35', 'R54', 'CATEGORIA']\n"
     ]
    }
   ],
   "source": [
    "df.to_csv(\"PuntosMuestra_CR_tinto.csv\", index=False)\n",
    "print(df.columns.tolist())"
   ]
  },
  {
   "cell_type": "markdown",
   "metadata": {},
   "source": [
    "## Generar imagenes sinteticas"
   ]
  },
  {
   "cell_type": "code",
   "execution_count": 5,
   "metadata": {},
   "outputs": [],
   "source": [
    "from TINTOlib.tinto import TINTO  # clase principal\n",
    "# opciones típicas: problem=\"supervised\", algorithm=(\"t-SNE\",\"PCA\",...), blur=True, pixels (tamaño)\n",
    "model = TINTO(problem=\"supervised\", blur=True)  # hiperparámetros por defecto\n",
    "# También puedes pasar, p. ej.: TINTO(problem=\"supervised\", pixels=30, algorithm=\"t-SNE\", steps=5, blur=True)\n",
    "\n",
    "# Entrenar el mapeo y generar imágenes en carpeta\n",
    "model.fit_transform(\"PuntosMuestra_CR_tinto.csv\", folder=\"PuntosMuestra_CR_tinto_synthetic_images\")\n"
   ]
  }
 ],
 "metadata": {
  "kernelspec": {
   "display_name": "tintoenv",
   "language": "python",
   "name": "python3"
  },
  "language_info": {
   "codemirror_mode": {
    "name": "ipython",
    "version": 3
   },
   "file_extension": ".py",
   "mimetype": "text/x-python",
   "name": "python",
   "nbconvert_exporter": "python",
   "pygments_lexer": "ipython3",
   "version": "3.11.13"
  },
  "orig_nbformat": 4
 },
 "nbformat": 4,
 "nbformat_minor": 2
}
