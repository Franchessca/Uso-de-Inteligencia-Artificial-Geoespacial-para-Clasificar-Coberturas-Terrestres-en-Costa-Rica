{
 "cells": [
  {
   "cell_type": "markdown",
   "metadata": {
    "id": "EybOZ6hSjpCF"
   },
   "source": [
    "<h1><font color=\"#113D68\" size=6>TINTOlib: Converting Tidy Data into Synthetic Images</font></h1>\n",
    "\n",
    "<h1><font color=\"#113D68\" size=5>Template problem with a Vision Transformer (ViT)</font></h1>\n",
    "\n",
    "<br><br>\n",
    "<div style=\"text-align: right\">\n",
    "<font color=\"#113D68\" size=3>Manuel Castillo-Cara</font><br>\n",
    "<font color=\"#113D68\" size=3>Raúl García-Castro</font><br>\n",
    "<font color=\"#113D68\" size=3>Jiayun Liu</font><br>\n",
    "</div>\n",
    "\n",
    "\n",
    "---"
   ]
  },
  {
   "cell_type": "code",
   "execution_count": null,
   "metadata": {},
   "outputs": [],
   "source": [
    "# Copyright (c) 2023 Manuel Castillo-Cara and Reewos Talla-Chumpitaz and Raúl García-Castro and Luis Orozco-Barbosa\n",
    "# Modifications Copyright (c) 2025 Franchessca\n",
    "#\n",
    "# Licensed under the Apache License, Version 2.0 (the \"License\");\n",
    "# you may not use this file except in compliance with the License.\n",
    "# You may obtain a copy of the License at\n",
    "#     http://www.apache.org/licenses/LICENSE-2.0\n",
    "#\n",
    "# Unless required by applicable law or agreed to in writing, software\n",
    "# distributed under the License is distributed on an \"AS IS\" BASIS,\n",
    "# WITHOUT WARRANTIES OR CONDITIONS OF ANY KIND, either express or implied.\n",
    "# See the License for the specific language governing permissions and\n",
    "# limitations under the License.\n",
    "#\n",
    "# Modificaciones realizadas por Franchessca:\n",
    "# - Cambiar de binario a multiclase; cambio de parametros del modelo ViT, cambio en los parametros de prueba en el gichsearch, adicion de matriz de confusion en los resultados mostrados, adicion de metricas Overall Accuracy, F1-score, recall, precision\n",
    "#\n",
    "# SPDX-License-Identifier: Apache-2.0"
   ]
  },
  {
   "cell_type": "markdown",
   "metadata": {},
   "source": [
    "@article{softwarex_TINTO,\n",
    "    title = {TINTO: Converting Tidy Data into Image for Classification with 2-Dimensional Convolutional Neural Networks},\n",
    "    journal = {SoftwareX},\n",
    "    author = {Manuel Castillo-Cara and Reewos Talla-Chumpitaz and Raúl García-Castro and Luis Orozco-Barbosa},\n",
    "    volume={22},\n",
    "    pages={101391},\n",
    "    year = {2023},\n",
    "    issn = {2352-7110},\n",
    "    doi = {https://doi.org/10.1016/j.softx.2023.101391}\n",
    "}"
   ]
  },
  {
   "cell_type": "code",
   "execution_count": 1,
   "metadata": {
    "executionInfo": {
     "elapsed": 8311,
     "status": "ok",
     "timestamp": 1729271676773,
     "user": {
      "displayName": "Jiayun Liu",
      "userId": "16866032985979885782"
     },
     "user_tz": -120
    },
    "id": "PeeBbGxlpjFp",
    "scrolled": true,
    "tags": []
   },
   "outputs": [],
   "source": [
    "import gc\n",
    "import os\n",
    "import random\n",
    "\n",
    "import matplotlib.pyplot as plt\n",
    "import numpy as np\n",
    "import pandas as pd\n",
    "import seaborn as sns\n",
    "import sklearn\n",
    "import tensorflow as tf\n",
    "import tifffile as tifi\n",
    "import keras\n",
    "from keras.utils import plot_model\n",
    "from keras import ops\n",
    "from PIL import Image\n",
    "from sklearn.metrics import (mean_absolute_error, mean_absolute_percentage_error,\n",
    "                             mean_squared_error, r2_score)\n",
    "from sklearn.model_selection import train_test_split\n",
    "\n",
    "from imblearn.over_sampling import RandomOverSampler\n",
    "\n",
    "# TensorFlow and Keras\n",
    "from keras import layers, models, Model\n",
    "from keras.callbacks import EarlyStopping, ModelCheckpoint, ReduceLROnPlateau\n",
    "from keras.layers import (Activation, BatchNormalization, concatenate,\n",
    "                                     Conv2D, Dense, Dropout, Flatten, Input,\n",
    "                                     LayerNormalization, MaxPool2D, MaxPooling2D)\n",
    "from keras.losses import MeanAbsoluteError, MeanAbsolutePercentageError\n",
    "from keras.models import Sequential, Model, load_model\n",
    "from keras.optimizers import Adadelta, Adam, Adamax, SGD, AdamW\n",
    "\n",
    "#Models of TINTOlib\n",
    "from TINTOlib.barGraph import BarGraph\n",
    "from TINTOlib.combination import Combination\n",
    "from TINTOlib.distanceMatrix import DistanceMatrix\n",
    "from TINTOlib.igtd import IGTD\n",
    "from TINTOlib.refined import REFINED\n",
    "from TINTOlib.supertml import SuperTML\n",
    "from TINTOlib.tinto import TINTO\n",
    "from TINTOlib.featureWrap import FeatureWrap\n",
    "from TINTOlib.bie import BIE\n",
    "\n",
    "# SET RANDOM SEED FOR REPRODUCIBILITY\n",
    "SEED = 42\n",
    "#torch.manual_seed(SEED)\n",
    "#torch.cuda.manual_seed(SEED)\n",
    "#torch.cuda.manual_seed_all(SEED)\n",
    "#torch.backends.cudnn.deterministic = True\n",
    "#torch.backends.cudnn.benchmark = False\n",
    "os.environ['PYTHONHASHSEED']=str(SEED)\n",
    "random.seed(SEED)\n",
    "np.random.seed(SEED)\n",
    "tf.random.set_seed(SEED)"
   ]
  },
  {
   "cell_type": "code",
   "execution_count": 2,
   "metadata": {
    "colab": {
     "base_uri": "https://localhost:8080/",
     "height": 112
    },
    "executionInfo": {
     "elapsed": 9,
     "status": "ok",
     "timestamp": 1729271676774,
     "user": {
      "displayName": "Jiayun Liu",
      "userId": "16866032985979885782"
     },
     "user_tz": -120
    },
    "id": "UIt0pGgtiCyr",
    "outputId": "f26ca72c-1f07-44cd-f70a-e6df5091eca6"
   },
   "outputs": [
    {
     "data": {
      "text/html": [
       "<div>\n",
       "<style scoped>\n",
       "    .dataframe tbody tr th:only-of-type {\n",
       "        vertical-align: middle;\n",
       "    }\n",
       "\n",
       "    .dataframe tbody tr th {\n",
       "        vertical-align: top;\n",
       "    }\n",
       "\n",
       "    .dataframe thead th {\n",
       "        text-align: right;\n",
       "    }\n",
       "</style>\n",
       "<table border=\"1\" class=\"dataframe\">\n",
       "  <thead>\n",
       "    <tr style=\"text-align: right;\">\n",
       "      <th></th>\n",
       "      <th>B2</th>\n",
       "      <th>B3</th>\n",
       "      <th>B4</th>\n",
       "      <th>B8</th>\n",
       "      <th>B11</th>\n",
       "      <th>NDVI</th>\n",
       "      <th>EVI2</th>\n",
       "      <th>GCVI</th>\n",
       "      <th>MNDWI</th>\n",
       "      <th>NDMI</th>\n",
       "      <th>SR</th>\n",
       "      <th>R35</th>\n",
       "      <th>R54</th>\n",
       "      <th>CATEGORIA</th>\n",
       "    </tr>\n",
       "  </thead>\n",
       "  <tbody>\n",
       "    <tr>\n",
       "      <th>0</th>\n",
       "      <td>0.04827</td>\n",
       "      <td>0.079620</td>\n",
       "      <td>0.093150</td>\n",
       "      <td>0.305010</td>\n",
       "      <td>0.288977</td>\n",
       "      <td>0.550606</td>\n",
       "      <td>0.343948</td>\n",
       "      <td>2.543588</td>\n",
       "      <td>-0.551372</td>\n",
       "      <td>-0.000857</td>\n",
       "      <td>3.450438</td>\n",
       "      <td>0.316602</td>\n",
       "      <td>0.998287</td>\n",
       "      <td>0</td>\n",
       "    </tr>\n",
       "    <tr>\n",
       "      <th>1</th>\n",
       "      <td>0.04266</td>\n",
       "      <td>0.075687</td>\n",
       "      <td>0.071796</td>\n",
       "      <td>0.326323</td>\n",
       "      <td>0.273247</td>\n",
       "      <td>0.608104</td>\n",
       "      <td>0.382768</td>\n",
       "      <td>3.109668</td>\n",
       "      <td>-0.568329</td>\n",
       "      <td>0.083792</td>\n",
       "      <td>4.200990</td>\n",
       "      <td>0.293619</td>\n",
       "      <td>1.182928</td>\n",
       "      <td>0</td>\n",
       "    </tr>\n",
       "  </tbody>\n",
       "</table>\n",
       "</div>"
      ],
      "text/plain": [
       "        B2        B3        B4        B8       B11      NDVI      EVI2  \\\n",
       "0  0.04827  0.079620  0.093150  0.305010  0.288977  0.550606  0.343948   \n",
       "1  0.04266  0.075687  0.071796  0.326323  0.273247  0.608104  0.382768   \n",
       "\n",
       "       GCVI     MNDWI      NDMI        SR       R35       R54  CATEGORIA  \n",
       "0  2.543588 -0.551372 -0.000857  3.450438  0.316602  0.998287          0  \n",
       "1  3.109668 -0.568329  0.083792  4.200990  0.293619  1.182928          0  "
      ]
     },
     "execution_count": 2,
     "metadata": {},
     "output_type": "execute_result"
    }
   ],
   "source": [
    "ruta_carpeta_actual = os.getcwd()\n",
    "ruta_carpeta_raiz = os.path.dirname(ruta_carpeta_actual)\n",
    "csv_path  = os.path.join(ruta_carpeta_raiz, \"dataset\", \"PuntosMuestra_CR_2023.csv\")\n",
    "df = pd.read_csv(csv_path)\n",
    "\n",
    "# Mover CATEGORIA al final\n",
    "cols = [c for c in df.columns if c != \"CATEGORIA\"] + [\"CATEGORIA\"]\n",
    "df = df[cols]\n",
    "\n",
    "# Quitar columnas no predictoras (lon/lat/year) si no las quieres en la imagen\n",
    "drop_cols = [\"lon\", \"lat\", \"year\"]\n",
    "df = df[[c for c in df.columns if c not in drop_cols or c == \"CATEGORIA\"]]\n",
    "\n",
    "# Remapear categorías a consecutivas 0..K-1\n",
    "clases_unicas = sorted(df[\"CATEGORIA\"].unique())\n",
    "mapa = {old: new for new, old in enumerate(clases_unicas)}\n",
    "df[\"CATEGORIA\"] = df[\"CATEGORIA\"].map(mapa)\n",
    "\n",
    "#Read CSV\n",
    "df.head(2)"
   ]
  },
  {
   "cell_type": "code",
   "execution_count": 3,
   "metadata": {
    "colab": {
     "base_uri": "https://localhost:8080/"
    },
    "executionInfo": {
     "elapsed": 6,
     "status": "ok",
     "timestamp": 1729271676774,
     "user": {
      "displayName": "Jiayun Liu",
      "userId": "16866032985979885782"
     },
     "user_tz": -120
    },
    "id": "ZJzBeHtwiCyr",
    "outputId": "280d0ed8-1e46-466e-bc70-0018eb2cd06b"
   },
   "outputs": [
    {
     "name": "stdout",
     "output_type": "stream",
     "text": [
      "4\n"
     ]
    }
   ],
   "source": [
    "# Get the shape of the dataframe\n",
    "num_columns = df.shape[1]\n",
    "\n",
    "# Calculate number of columns - 1\n",
    "columns_minus_one = num_columns - 1\n",
    "\n",
    "# Calculate the square root for image size\n",
    "import math\n",
    "image_size = math.ceil(math.sqrt(columns_minus_one))\n",
    "print(image_size)"
   ]
  },
  {
   "cell_type": "code",
   "execution_count": 4,
   "metadata": {
    "executionInfo": {
     "elapsed": 4,
     "status": "ok",
     "timestamp": 1729271676774,
     "user": {
      "displayName": "Jiayun Liu",
      "userId": "16866032985979885782"
     },
     "user_tz": -120
    },
    "id": "NiCFhd9eiCyr"
   },
   "outputs": [],
   "source": [
    "#Select the model and the parameters\n",
    "problem_type = \"supervised\"\n",
    "#problem_type = \"regression\"\n",
    "pixelTML = 30\n",
    "pixel = 40\n",
    "## zoom para ampliar la imagen\n",
    "image_model = REFINED(problem=problem_type, random_seed=SEED, zoom=2, n_processors=8)\n",
    "image_model = IGTD(problem= problem_type, random_seed=SEED, scale=[4,4], zoom=2)\n",
    "\n",
    "#Define the dataset path and the folder where the images will be saved\n",
    "results_folder = \"IGTD\"\n",
    "images_folder = \"IGTD\""
   ]
  },
  {
   "cell_type": "code",
   "execution_count": 5,
   "metadata": {
    "colab": {
     "base_uri": "https://localhost:8080/"
    },
    "executionInfo": {
     "elapsed": 40977,
     "status": "ok",
     "timestamp": 1729271717747,
     "user": {
      "displayName": "Jiayun Liu",
      "userId": "16866032985979885782"
     },
     "user_tz": -120
    },
    "id": "cerdfl_1irxZ",
    "outputId": "c91f1298-30c1-4cda-c911-71eb7956631b"
   },
   "outputs": [
    {
     "name": "stdout",
     "output_type": "stream",
     "text": [
      "The images are already generated\n",
      "IGTD\\supervised.csv\n"
     ]
    }
   ],
   "source": [
    "import os\n",
    "\n",
    "# Generate the images if the folder does not exist\n",
    "if not os.path.exists(images_folder):\n",
    "    #Generate thet images\n",
    "    image_model.fit_transform(df, images_folder)\n",
    "else:\n",
    "    print(\"The images are already generated\")\n",
    "\n",
    "img_paths = os.path.join(images_folder,problem_type+\".csv\")\n",
    "\n",
    "print(img_paths)"
   ]
  },
  {
   "cell_type": "code",
   "execution_count": 6,
   "metadata": {
    "executionInfo": {
     "elapsed": 14,
     "status": "ok",
     "timestamp": 1729271717747,
     "user": {
      "displayName": "Jiayun Liu",
      "userId": "16866032985979885782"
     },
     "user_tz": -120
    },
    "id": "rvHDCZ-Iirx1"
   },
   "outputs": [],
   "source": [
    "imgs = pd.read_csv(img_paths)\n",
    "\n",
    "#imgs[\"images\"]= images_folder + \"\\\\\" + imgs[\"images\"]\n",
    "imgs[\"images\"]= images_folder + \"/\" + imgs[\"images\"]"
   ]
  },
  {
   "cell_type": "code",
   "execution_count": 7,
   "metadata": {},
   "outputs": [
    {
     "data": {
      "text/html": [
       "<div>\n",
       "<style scoped>\n",
       "    .dataframe tbody tr th:only-of-type {\n",
       "        vertical-align: middle;\n",
       "    }\n",
       "\n",
       "    .dataframe tbody tr th {\n",
       "        vertical-align: top;\n",
       "    }\n",
       "\n",
       "    .dataframe thead th {\n",
       "        text-align: right;\n",
       "    }\n",
       "</style>\n",
       "<table border=\"1\" class=\"dataframe\">\n",
       "  <thead>\n",
       "    <tr style=\"text-align: right;\">\n",
       "      <th></th>\n",
       "      <th>images</th>\n",
       "      <th>B2</th>\n",
       "      <th>B3</th>\n",
       "      <th>B4</th>\n",
       "      <th>B8</th>\n",
       "      <th>B11</th>\n",
       "      <th>NDVI</th>\n",
       "      <th>EVI2</th>\n",
       "      <th>GCVI</th>\n",
       "      <th>MNDWI</th>\n",
       "      <th>NDMI</th>\n",
       "      <th>SR</th>\n",
       "      <th>R35</th>\n",
       "      <th>R54</th>\n",
       "    </tr>\n",
       "  </thead>\n",
       "  <tbody>\n",
       "    <tr>\n",
       "      <th>0</th>\n",
       "      <td>IGTD/00\\000000.png</td>\n",
       "      <td>0.048270</td>\n",
       "      <td>0.079620</td>\n",
       "      <td>0.093150</td>\n",
       "      <td>0.305010</td>\n",
       "      <td>0.288977</td>\n",
       "      <td>0.550606</td>\n",
       "      <td>0.343948</td>\n",
       "      <td>2.543588</td>\n",
       "      <td>-0.551372</td>\n",
       "      <td>-0.000857</td>\n",
       "      <td>3.450438</td>\n",
       "      <td>0.316602</td>\n",
       "      <td>0.998287</td>\n",
       "    </tr>\n",
       "    <tr>\n",
       "      <th>1</th>\n",
       "      <td>IGTD/00\\000001.png</td>\n",
       "      <td>0.042660</td>\n",
       "      <td>0.075687</td>\n",
       "      <td>0.071796</td>\n",
       "      <td>0.326323</td>\n",
       "      <td>0.273247</td>\n",
       "      <td>0.608104</td>\n",
       "      <td>0.382768</td>\n",
       "      <td>3.109668</td>\n",
       "      <td>-0.568329</td>\n",
       "      <td>0.083792</td>\n",
       "      <td>4.200990</td>\n",
       "      <td>0.293619</td>\n",
       "      <td>1.182928</td>\n",
       "    </tr>\n",
       "    <tr>\n",
       "      <th>2</th>\n",
       "      <td>IGTD/00\\000002.png</td>\n",
       "      <td>0.041203</td>\n",
       "      <td>0.084570</td>\n",
       "      <td>0.070270</td>\n",
       "      <td>0.309493</td>\n",
       "      <td>0.237580</td>\n",
       "      <td>0.570262</td>\n",
       "      <td>0.318837</td>\n",
       "      <td>2.650761</td>\n",
       "      <td>-0.473874</td>\n",
       "      <td>0.091006</td>\n",
       "      <td>3.653994</td>\n",
       "      <td>0.322602</td>\n",
       "      <td>1.200234</td>\n",
       "    </tr>\n",
       "    <tr>\n",
       "      <th>3</th>\n",
       "      <td>IGTD/00\\000003.png</td>\n",
       "      <td>0.037380</td>\n",
       "      <td>0.071796</td>\n",
       "      <td>0.067245</td>\n",
       "      <td>0.267390</td>\n",
       "      <td>0.194034</td>\n",
       "      <td>0.583140</td>\n",
       "      <td>0.335017</td>\n",
       "      <td>2.723419</td>\n",
       "      <td>-0.470783</td>\n",
       "      <td>0.126112</td>\n",
       "      <td>3.815948</td>\n",
       "      <td>0.346257</td>\n",
       "      <td>1.289934</td>\n",
       "    </tr>\n",
       "    <tr>\n",
       "      <th>4</th>\n",
       "      <td>IGTD/00\\000004.png</td>\n",
       "      <td>0.060095</td>\n",
       "      <td>0.096147</td>\n",
       "      <td>0.105497</td>\n",
       "      <td>0.333665</td>\n",
       "      <td>0.243520</td>\n",
       "      <td>0.471253</td>\n",
       "      <td>0.340190</td>\n",
       "      <td>2.285315</td>\n",
       "      <td>-0.467742</td>\n",
       "      <td>0.062778</td>\n",
       "      <td>2.782527</td>\n",
       "      <td>0.383170</td>\n",
       "      <td>1.133965</td>\n",
       "    </tr>\n",
       "    <tr>\n",
       "      <th>...</th>\n",
       "      <td>...</td>\n",
       "      <td>...</td>\n",
       "      <td>...</td>\n",
       "      <td>...</td>\n",
       "      <td>...</td>\n",
       "      <td>...</td>\n",
       "      <td>...</td>\n",
       "      <td>...</td>\n",
       "      <td>...</td>\n",
       "      <td>...</td>\n",
       "      <td>...</td>\n",
       "      <td>...</td>\n",
       "      <td>...</td>\n",
       "      <td>...</td>\n",
       "    </tr>\n",
       "    <tr>\n",
       "      <th>29196</th>\n",
       "      <td>IGTD/06\\029196.png</td>\n",
       "      <td>0.025005</td>\n",
       "      <td>0.051295</td>\n",
       "      <td>0.029817</td>\n",
       "      <td>0.385887</td>\n",
       "      <td>0.173615</td>\n",
       "      <td>0.867643</td>\n",
       "      <td>0.587595</td>\n",
       "      <td>6.637383</td>\n",
       "      <td>-0.535602</td>\n",
       "      <td>0.403331</td>\n",
       "      <td>14.110674</td>\n",
       "      <td>0.169740</td>\n",
       "      <td>2.351943</td>\n",
       "    </tr>\n",
       "    <tr>\n",
       "      <th>29197</th>\n",
       "      <td>IGTD/06\\029197.png</td>\n",
       "      <td>0.024936</td>\n",
       "      <td>0.049934</td>\n",
       "      <td>0.028910</td>\n",
       "      <td>0.405261</td>\n",
       "      <td>0.172350</td>\n",
       "      <td>0.862727</td>\n",
       "      <td>0.633636</td>\n",
       "      <td>6.903500</td>\n",
       "      <td>-0.557318</td>\n",
       "      <td>0.410423</td>\n",
       "      <td>13.570500</td>\n",
       "      <td>0.175385</td>\n",
       "      <td>2.392266</td>\n",
       "    </tr>\n",
       "    <tr>\n",
       "      <th>29198</th>\n",
       "      <td>IGTD/06\\029198.png</td>\n",
       "      <td>0.023740</td>\n",
       "      <td>0.054843</td>\n",
       "      <td>0.037655</td>\n",
       "      <td>0.315075</td>\n",
       "      <td>0.182566</td>\n",
       "      <td>0.801106</td>\n",
       "      <td>0.454673</td>\n",
       "      <td>4.736349</td>\n",
       "      <td>-0.531829</td>\n",
       "      <td>0.369823</td>\n",
       "      <td>9.056758</td>\n",
       "      <td>0.225107</td>\n",
       "      <td>2.174226</td>\n",
       "    </tr>\n",
       "    <tr>\n",
       "      <th>29199</th>\n",
       "      <td>IGTD/06\\029199.png</td>\n",
       "      <td>0.026187</td>\n",
       "      <td>0.054444</td>\n",
       "      <td>0.040570</td>\n",
       "      <td>0.347951</td>\n",
       "      <td>0.196701</td>\n",
       "      <td>0.808139</td>\n",
       "      <td>0.543137</td>\n",
       "      <td>5.471095</td>\n",
       "      <td>-0.544445</td>\n",
       "      <td>0.345454</td>\n",
       "      <td>9.473521</td>\n",
       "      <td>0.201306</td>\n",
       "      <td>2.057044</td>\n",
       "    </tr>\n",
       "    <tr>\n",
       "      <th>29200</th>\n",
       "      <td>IGTD/06\\029200.png</td>\n",
       "      <td>0.018377</td>\n",
       "      <td>0.043952</td>\n",
       "      <td>0.028305</td>\n",
       "      <td>0.349010</td>\n",
       "      <td>0.152467</td>\n",
       "      <td>0.845859</td>\n",
       "      <td>0.558847</td>\n",
       "      <td>6.110724</td>\n",
       "      <td>-0.540290</td>\n",
       "      <td>0.425992</td>\n",
       "      <td>11.975174</td>\n",
       "      <td>0.179580</td>\n",
       "      <td>2.484272</td>\n",
       "    </tr>\n",
       "  </tbody>\n",
       "</table>\n",
       "<p>29201 rows × 14 columns</p>\n",
       "</div>"
      ],
      "text/plain": [
       "                   images        B2        B3        B4        B8       B11  \\\n",
       "0      IGTD/00\\000000.png  0.048270  0.079620  0.093150  0.305010  0.288977   \n",
       "1      IGTD/00\\000001.png  0.042660  0.075687  0.071796  0.326323  0.273247   \n",
       "2      IGTD/00\\000002.png  0.041203  0.084570  0.070270  0.309493  0.237580   \n",
       "3      IGTD/00\\000003.png  0.037380  0.071796  0.067245  0.267390  0.194034   \n",
       "4      IGTD/00\\000004.png  0.060095  0.096147  0.105497  0.333665  0.243520   \n",
       "...                   ...       ...       ...       ...       ...       ...   \n",
       "29196  IGTD/06\\029196.png  0.025005  0.051295  0.029817  0.385887  0.173615   \n",
       "29197  IGTD/06\\029197.png  0.024936  0.049934  0.028910  0.405261  0.172350   \n",
       "29198  IGTD/06\\029198.png  0.023740  0.054843  0.037655  0.315075  0.182566   \n",
       "29199  IGTD/06\\029199.png  0.026187  0.054444  0.040570  0.347951  0.196701   \n",
       "29200  IGTD/06\\029200.png  0.018377  0.043952  0.028305  0.349010  0.152467   \n",
       "\n",
       "           NDVI      EVI2      GCVI     MNDWI      NDMI         SR       R35  \\\n",
       "0      0.550606  0.343948  2.543588 -0.551372 -0.000857   3.450438  0.316602   \n",
       "1      0.608104  0.382768  3.109668 -0.568329  0.083792   4.200990  0.293619   \n",
       "2      0.570262  0.318837  2.650761 -0.473874  0.091006   3.653994  0.322602   \n",
       "3      0.583140  0.335017  2.723419 -0.470783  0.126112   3.815948  0.346257   \n",
       "4      0.471253  0.340190  2.285315 -0.467742  0.062778   2.782527  0.383170   \n",
       "...         ...       ...       ...       ...       ...        ...       ...   \n",
       "29196  0.867643  0.587595  6.637383 -0.535602  0.403331  14.110674  0.169740   \n",
       "29197  0.862727  0.633636  6.903500 -0.557318  0.410423  13.570500  0.175385   \n",
       "29198  0.801106  0.454673  4.736349 -0.531829  0.369823   9.056758  0.225107   \n",
       "29199  0.808139  0.543137  5.471095 -0.544445  0.345454   9.473521  0.201306   \n",
       "29200  0.845859  0.558847  6.110724 -0.540290  0.425992  11.975174  0.179580   \n",
       "\n",
       "            R54  \n",
       "0      0.998287  \n",
       "1      1.182928  \n",
       "2      1.200234  \n",
       "3      1.289934  \n",
       "4      1.133965  \n",
       "...         ...  \n",
       "29196  2.351943  \n",
       "29197  2.392266  \n",
       "29198  2.174226  \n",
       "29199  2.057044  \n",
       "29200  2.484272  \n",
       "\n",
       "[29201 rows x 14 columns]"
      ]
     },
     "execution_count": 7,
     "metadata": {},
     "output_type": "execute_result"
    }
   ],
   "source": [
    "imgs = imgs.rename(columns={'class': 'values'})\n",
    "\n",
    "combined_dataset = pd.concat([imgs,df],axis=1)\n",
    "combined_dataset\n",
    "# Drop target column and values which is a copy of target column\n",
    "df_x = combined_dataset.drop(df.columns[-1],axis=1).drop(\"values\",axis=1)\n",
    "df_y = combined_dataset[\"values\"]\n",
    "\n",
    "df_x"
   ]
  },
  {
   "cell_type": "code",
   "execution_count": 8,
   "metadata": {
    "colab": {
     "base_uri": "https://localhost:8080/"
    },
    "executionInfo": {
     "elapsed": 2829,
     "status": "ok",
     "timestamp": 1729271720569,
     "user": {
      "displayName": "Jiayun Liu",
      "userId": "16866032985979885782"
     },
     "user_tz": -120
    },
    "id": "veReOdAyiryJ",
    "outputId": "8a7a8df8-c8ac-475b-a11e-0e244ceabe02"
   },
   "outputs": [
    {
     "name": "stdout",
     "output_type": "stream",
     "text": [
      "Images shape:  (8, 8, 1)\n",
      "Attributres:  13\n",
      "Image size (pixels): 8\n"
     ]
    }
   ],
   "source": [
    "import cv2\n",
    "from sklearn.preprocessing import MinMaxScaler\n",
    "X_train, X_val, y_train, y_val = train_test_split(df_x, df_y, test_size=0.20, random_state=SEED)\n",
    "X_val, X_test, y_val, y_test = train_test_split(X_val, y_val, test_size=0.50, random_state=SEED)\n",
    "\n",
    "#TIDY DATA SPLITTED\n",
    "X_train_num = X_train.drop(\"images\",axis=1)\n",
    "X_val_num = X_val.drop(\"images\",axis=1)\n",
    "X_test_num = X_test.drop(\"images\",axis=1)\n",
    "\n",
    "#IMAGES\n",
    "# For 3 channels (RGB)\n",
    "\"\"\"X_train_img = np.array([cv2.imread(img) for img in X_train[\"images\"]])\n",
    "X_val_img = np.array([cv2.imread(img) for img in X_val[\"images\"]])\n",
    "X_test_img = np.array([cv2.imread(img) for img in X_test[\"images\"]])\"\"\"\n",
    "\n",
    "# For 1 channels (GRAY SCALE)\n",
    "X_train_img = np.array([cv2.imread(img,cv2.IMREAD_GRAYSCALE) for img in X_train[\"images\"]])\n",
    "X_val_img = np.array([cv2.imread(img,cv2.IMREAD_GRAYSCALE) for img in X_val[\"images\"]])\n",
    "X_test_img = np.array([cv2.imread(img,cv2.IMREAD_GRAYSCALE) for img in X_test[\"images\"]])\n",
    "\n",
    "# Create a MinMaxScaler object\n",
    "scaler = MinMaxScaler()\n",
    "\n",
    "# Scale numerical data\n",
    "X_train_num = scaler.fit_transform(X_train_num)\n",
    "X_val_num = scaler.transform(X_val_num)\n",
    "X_test_num = scaler.transform(X_test_num)\n",
    "\n",
    "attributes = X_train_num.shape[1]\n",
    "height, width = X_train_img[0].shape\n",
    "channels = 1\n",
    "imgs_shape = (height, width, channels)\n",
    "\n",
    "print(\"Images shape: \",imgs_shape)\n",
    "print(\"Attributres: \",attributes)\n",
    "pixel=X_train_img[0].shape[0]\n",
    "print(\"Image size (pixels):\", pixel)"
   ]
  },
  {
   "cell_type": "code",
   "execution_count": 9,
   "metadata": {
    "colab": {
     "base_uri": "https://localhost:8080/",
     "height": 428
    },
    "executionInfo": {
     "elapsed": 11,
     "status": "ok",
     "timestamp": 1729271720569,
     "user": {
      "displayName": "Jiayun Liu",
      "userId": "16866032985979885782"
     },
     "user_tz": -120
    },
    "id": "yymPASjqiCyu",
    "outputId": "6e532688-5640-43fb-a5c6-873746a76c10"
   },
   "outputs": [
    {
     "data": {
      "image/png": "[encoded data removed]",
      "text/plain": [
       "<Figure size 640x480 with 1 Axes>"
      ]
     },
     "metadata": {},
     "output_type": "display_data"
    }
   ],
   "source": [
    "# Plot an example image (e.g., the first image in the array)\n",
    "example_image = X_train_img[0]\n",
    "\n",
    "# Convert the image from BGR (OpenCV default) to RGB for correct color display\n",
    "example_image_rgb = cv2.cvtColor(example_image, cv2.COLOR_BGR2RGB)\n",
    "\n",
    "# Display the image using matplotlib\n",
    "plt.imshow(example_image_rgb)\n",
    "plt.title(\"Example Image from X_train\")\n",
    "plt.axis('off')  # Hide the axis for a cleaner look\n",
    "plt.show()"
   ]
  },
  {
   "cell_type": "code",
   "execution_count": 10,
   "metadata": {
    "colab": {
     "base_uri": "https://localhost:8080/"
    },
    "executionInfo": {
     "elapsed": 10,
     "status": "ok",
     "timestamp": 1729271720570,
     "user": {
      "displayName": "Jiayun Liu",
      "userId": "16866032985979885782"
     },
     "user_tz": -120
    },
    "id": "8f_NYOCXiCyu",
    "outputId": "632c1bc8-3e06-4c19-e248-172ea36813f3"
   },
   "outputs": [],
   "source": [
    "X_train_img = X_train_img/255\n",
    "X_val_img = X_val_img/255\n",
    "X_test_img = X_test_img/255"
   ]
  },
  {
   "cell_type": "markdown",
   "metadata": {},
   "source": [
    "# Modelado de ViT"
   ]
  },
  {
   "cell_type": "code",
   "execution_count": 11,
   "metadata": {
    "executionInfo": {
     "elapsed": 6,
     "status": "ok",
     "timestamp": 1729271720570,
     "user": {
      "displayName": "Jiayun Liu",
      "userId": "16866032985979885782"
     },
     "user_tz": -120
    },
    "id": "j34u3al1iCyv"
   },
   "outputs": [],
   "source": [
    "image_size = pixel\n",
    "patch_size = 2\n",
    "num_patches = (image_size // patch_size) ** 2\n",
    "projection_dim = 32\n",
    "num_heads = 4\n",
    "transformer_units = [\n",
    "    projection_dim * 2,\n",
    "    projection_dim,\n",
    "]\n",
    "transformer_layers = 2\n",
    "mlp_head_units = [\n",
    "    64,\n",
    "    32,\n",
    "]"
   ]
  },
  {
   "cell_type": "code",
   "execution_count": 12,
   "metadata": {
    "executionInfo": {
     "elapsed": 6,
     "status": "ok",
     "timestamp": 1729271720570,
     "user": {
      "displayName": "Jiayun Liu",
      "userId": "16866032985979885782"
     },
     "user_tz": -120
    },
    "id": "wNMl-A1FiCyv"
   },
   "outputs": [],
   "source": [
    "class Patches(layers.Layer):\n",
    "    def __init__(self, patch_size):\n",
    "        super().__init__()\n",
    "        self.patch_size = patch_size\n",
    "\n",
    "    def call(self, images):\n",
    "        input_shape = ops.shape(images)\n",
    "        batch_size = input_shape[0]\n",
    "        height = input_shape[1]\n",
    "        width = input_shape[2]\n",
    "        channels = input_shape[3]\n",
    "        num_patches_h = height // self.patch_size\n",
    "        num_patches_w = width // self.patch_size\n",
    "        patches = keras.ops.image.extract_patches(images, size=self.patch_size)\n",
    "        patches = ops.reshape(\n",
    "            patches,\n",
    "            (\n",
    "                batch_size,\n",
    "                num_patches_h * num_patches_w,\n",
    "                self.patch_size * self.patch_size * channels,\n",
    "            ),\n",
    "        )\n",
    "        return patches\n",
    "\n",
    "    def get_config(self):\n",
    "        config = super().get_config()\n",
    "        config.update({\"patch_size\": self.patch_size})\n",
    "        return config\n"
   ]
  },
  {
   "cell_type": "code",
   "execution_count": 13,
   "metadata": {
    "executionInfo": {
     "elapsed": 6,
     "status": "ok",
     "timestamp": 1729271720570,
     "user": {
      "displayName": "Jiayun Liu",
      "userId": "16866032985979885782"
     },
     "user_tz": -120
    },
    "id": "777mOCgaiCyv"
   },
   "outputs": [],
   "source": [
    "class PatchEncoder(layers.Layer):\n",
    "    def __init__(self, num_patches, projection_dim):\n",
    "        super().__init__()\n",
    "        self.num_patches = num_patches\n",
    "        self.projection = layers.Dense(units=projection_dim)\n",
    "        self.position_embedding = layers.Embedding(\n",
    "            input_dim=num_patches, output_dim=projection_dim\n",
    "        )\n",
    "\n",
    "    def call(self, patch):\n",
    "        positions = ops.expand_dims(\n",
    "            ops.arange(start=0, stop=self.num_patches, step=1), axis=0\n",
    "        )\n",
    "        projected_patches = self.projection(patch)\n",
    "        encoded = projected_patches + self.position_embedding(positions)\n",
    "        return encoded\n",
    "\n",
    "    def get_config(self):\n",
    "        config = super().get_config()\n",
    "        config.update({\"num_patches\": self.num_patches})\n",
    "        return config"
   ]
  },
  {
   "cell_type": "code",
   "execution_count": 14,
   "metadata": {
    "executionInfo": {
     "elapsed": 6,
     "status": "ok",
     "timestamp": 1729271720570,
     "user": {
      "displayName": "Jiayun Liu",
      "userId": "16866032985979885782"
     },
     "user_tz": -120
    },
    "id": "CyBagm7piCyw"
   },
   "outputs": [],
   "source": [
    "def mlp(x, hidden_units, dropout_rate):\n",
    "    for units in hidden_units:\n",
    "        x = layers.Dense(units, activation=keras.activations.gelu)(x)\n",
    "        x = layers.Dropout(dropout_rate)(x)\n",
    "    return x"
   ]
  },
  {
   "cell_type": "code",
   "execution_count": 15,
   "metadata": {
    "executionInfo": {
     "elapsed": 5,
     "status": "ok",
     "timestamp": 1729271720570,
     "user": {
      "displayName": "Jiayun Liu",
      "userId": "16866032985979885782"
     },
     "user_tz": -120
    },
    "id": "g80qMV4eiryk"
   },
   "outputs": [],
   "source": [
    "def create_vit_classifier(patch_size, projection_dim, num_heads, transformer_layers, mlp_head_units):\n",
    "    inputs = keras.Input(shape=imgs_shape)\n",
    "    patches = Patches(patch_size)(inputs)\n",
    "    num_patches = (imgs_shape[0] // patch_size) ** 2\n",
    "    encoded_patches = PatchEncoder(num_patches, projection_dim)(patches)\n",
    "\n",
    "    for _ in range(transformer_layers):\n",
    "        x1 = layers.LayerNormalization(epsilon=1e-6)(encoded_patches)\n",
    "        attention_output = layers.MultiHeadAttention(\n",
    "            num_heads=num_heads, key_dim=projection_dim, dropout=0.1\n",
    "        )(x1, x1)\n",
    "        x2 = layers.Add()([attention_output, encoded_patches])\n",
    "        x3 = layers.LayerNormalization(epsilon=1e-6)(x2)\n",
    "        x3 = mlp(x3, hidden_units=[projection_dim * 2, projection_dim], dropout_rate=0.1)\n",
    "        encoded_patches = layers.Add()([x3, x2])\n",
    "\n",
    "    representation = layers.LayerNormalization(epsilon=1e-6)(encoded_patches)\n",
    "    representation = layers.Flatten()(representation)\n",
    "    representation = layers.Dropout(0.5)(representation)\n",
    "    features = mlp(representation, hidden_units=mlp_head_units, dropout_rate=0.5)\n",
    "\n",
    "    model = keras.Model(inputs=inputs, outputs=features)\n",
    "    return model"
   ]
  },
  {
   "cell_type": "code",
   "execution_count": 20,
   "metadata": {},
   "outputs": [
    {
     "name": "stdout",
     "output_type": "stream",
     "text": [
      "ViT IGTD: patch_size=2, projection_dim=32, num_heads=2, transformer_layers=2\n",
      "Epoch 75: early stopping\n",
      "Restoring model weights from the end of the best epoch: 65.\n",
      "\u001b[1m92/92\u001b[0m \u001b[32m━━━━━━━━━━━━━━━━━━━━\u001b[0m\u001b[37m\u001b[0m \u001b[1m1s\u001b[0m 5ms/step\n"
     ]
    },
    {
     "data": {
      "image/png": "[encoded data removed]",
      "text/plain": [
       "<Figure size 640x480 with 2 Axes>"
      ]
     },
     "metadata": {},
     "output_type": "display_data"
    },
    {
     "name": "stdout",
     "output_type": "stream",
     "text": [
      "Val -> loss=0.3881 | val_acc=0.8647 | OA=0.8617 | Prec(macro)=0.8066 | Recall(macro)=0.7500 | F1-macro=0.7735\n",
      "--------------------------------------------------------------------------------\n",
      "ViT IGTD: patch_size=2, projection_dim=32, num_heads=2, transformer_layers=3\n",
      "Epoch 10: early stopping\n",
      "Restoring model weights from the end of the best epoch: 1.\n",
      "\u001b[1m92/92\u001b[0m \u001b[32m━━━━━━━━━━━━━━━━━━━━\u001b[0m\u001b[37m\u001b[0m \u001b[1m1s\u001b[0m 6ms/step\n"
     ]
    },
    {
     "data": {
      "image/png": "[encoded data removed]",
      "text/plain": [
       "<Figure size 640x480 with 2 Axes>"
      ]
     },
     "metadata": {},
     "output_type": "display_data"
    },
    {
     "name": "stdout",
     "output_type": "stream",
     "text": [
      "Val -> loss=0.4935 | val_acc=0.8356 | OA=0.6272 | Prec(macro)=0.5633 | Recall(macro)=0.4943 | F1-macro=0.4692\n",
      "--------------------------------------------------------------------------------\n",
      "ViT IGTD: patch_size=2, projection_dim=32, num_heads=2, transformer_layers=5\n",
      "Epoch 10: early stopping\n",
      "Restoring model weights from the end of the best epoch: 1.\n",
      "\u001b[1m92/92\u001b[0m \u001b[32m━━━━━━━━━━━━━━━━━━━━\u001b[0m\u001b[37m\u001b[0m \u001b[1m1s\u001b[0m 9ms/step\n"
     ]
    },
    {
     "data": {
      "image/png": "[encoded data removed]",
      "text/plain": [
       "<Figure size 640x480 with 2 Axes>"
      ]
     },
     "metadata": {},
     "output_type": "display_data"
    },
    {
     "name": "stdout",
     "output_type": "stream",
     "text": [
      "Val -> loss=0.4774 | val_acc=0.8363 | OA=0.6631 | Prec(macro)=0.5394 | Recall(macro)=0.5457 | F1-macro=0.5183\n",
      "--------------------------------------------------------------------------------\n",
      "ViT IGTD: patch_size=2, projection_dim=128, num_heads=2, transformer_layers=2\n",
      "Epoch 10: early stopping\n",
      "Restoring model weights from the end of the best epoch: 1.\n",
      "\u001b[1m92/92\u001b[0m \u001b[32m━━━━━━━━━━━━━━━━━━━━\u001b[0m\u001b[37m\u001b[0m \u001b[1m1s\u001b[0m 8ms/step\n"
     ]
    },
    {
     "data": {
      "image/png": "[encoded data removed]",
      "text/plain": [
       "<Figure size 640x480 with 2 Axes>"
      ]
     },
     "metadata": {},
     "output_type": "display_data"
    },
    {
     "name": "stdout",
     "output_type": "stream",
     "text": [
      "Val -> loss=0.5329 | val_acc=0.8229 | OA=0.7720 | Prec(macro)=0.6523 | Recall(macro)=0.5790 | F1-macro=0.5864\n",
      "--------------------------------------------------------------------------------\n",
      "ViT IGTD: patch_size=2, projection_dim=128, num_heads=2, transformer_layers=3\n",
      "Epoch 10: early stopping\n",
      "Restoring model weights from the end of the best epoch: 1.\n",
      "\u001b[1m92/92\u001b[0m \u001b[32m━━━━━━━━━━━━━━━━━━━━\u001b[0m\u001b[37m\u001b[0m \u001b[1m1s\u001b[0m 11ms/step\n"
     ]
    },
    {
     "data": {
      "image/png": "[encoded data removed]",
      "text/plain": [
       "<Figure size 640x480 with 2 Axes>"
      ]
     },
     "metadata": {},
     "output_type": "display_data"
    },
    {
     "name": "stdout",
     "output_type": "stream",
     "text": [
      "Val -> loss=0.5239 | val_acc=0.8182 | OA=0.5995 | Prec(macro)=0.4927 | Recall(macro)=0.3627 | F1-macro=0.3869\n",
      "--------------------------------------------------------------------------------\n",
      "ViT IGTD: patch_size=2, projection_dim=128, num_heads=2, transformer_layers=5\n",
      "Epoch 10: early stopping\n",
      "Restoring model weights from the end of the best epoch: 1.\n",
      "\u001b[1m92/92\u001b[0m \u001b[32m━━━━━━━━━━━━━━━━━━━━\u001b[0m\u001b[37m\u001b[0m \u001b[1m2s\u001b[0m 18ms/step\n"
     ]
    },
    {
     "data": {
      "image/png": "[encoded data removed]",
      "text/plain": [
       "<Figure size 640x480 with 2 Axes>"
      ]
     },
     "metadata": {},
     "output_type": "display_data"
    },
    {
     "name": "stdout",
     "output_type": "stream",
     "text": [
      "Val -> loss=0.5989 | val_acc=0.7884 | OA=0.6395 | Prec(macro)=0.2233 | Recall(macro)=0.2722 | F1-macro=0.2333\n",
      "--------------------------------------------------------------------------------\n"
     ]
    }
   ],
   "source": [
    "import pandas as pd\n",
    "import tensorflow as tf\n",
    "from tensorflow import keras\n",
    "from tensorflow.keras import layers\n",
    "from keras.models import Model\n",
    "from keras.layers import Input, Dense, Dropout\n",
    "import itertools\n",
    "from sklearn.metrics import confusion_matrix, f1_score\n",
    "from sklearn.metrics import accuracy_score, f1_score, classification_report, confusion_matrix, precision_recall_fscore_support\n",
    "import matplotlib.pyplot as plt\n",
    "import seaborn as sns\n",
    "from sklearn.metrics import ConfusionMatrixDisplay\n",
    "\n",
    "# EarlyStopping\n",
    "early_stopper = tf.keras.callbacks.EarlyStopping(\n",
    "    monitor='val_loss',\n",
    "    min_delta=0.001,\n",
    "    patience=10,\n",
    "    verbose=1,\n",
    "    mode='min',\n",
    "    restore_best_weights=True\n",
    ")\n",
    "\n",
    "# Métricas\n",
    "METRICS = [\n",
    "    tf.keras.metrics.SparseCategoricalAccuracy(name=\"accuracy\")\n",
    "]\n",
    "\n",
    "# Definición del modelo ViT puro\n",
    "def create_vit_model(patch_size, projection_dim, num_heads, transformer_layers, mlp_head_units):\n",
    "    inputs = keras.Input(shape=imgs_shape)\n",
    "    patches = Patches(patch_size)(inputs)\n",
    "    encoded_patches = PatchEncoder((pixel // patch_size) ** 2, projection_dim)(patches)\n",
    "\n",
    "    for _ in range(transformer_layers):\n",
    "        x1 = layers.LayerNormalization(epsilon=1e-6)(encoded_patches)\n",
    "        attention_output = layers.MultiHeadAttention(\n",
    "            num_heads=num_heads, key_dim=projection_dim, dropout=0.1\n",
    "        )(x1, x1)\n",
    "        x2 = layers.Add()([attention_output, encoded_patches])\n",
    "        x3 = layers.LayerNormalization(epsilon=1e-6)(x2)\n",
    "        x3 = mlp(x3, hidden_units=[projection_dim * 2, projection_dim], dropout_rate=0.1)\n",
    "        encoded_patches = layers.Add()([x3, x2])\n",
    "\n",
    "    representation = layers.LayerNormalization(epsilon=1e-6)(encoded_patches)\n",
    "    representation = layers.Flatten()(representation)\n",
    "    representation = layers.Dropout(0.5)(representation)\n",
    "    features = mlp(representation, hidden_units=mlp_head_units, dropout_rate=0.5)\n",
    "    output = Dense(7, activation='softmax')(features) # Cantidad de salidas\n",
    "    model = Model(inputs=inputs, outputs=output)\n",
    "    return model\n",
    "\n",
    "################# AQUÍ LOS HIPERPARÁMETROS!!! #######\n",
    "################# ViT IGTD: patch_size=2, projection_dim=32, num_heads=2, transformer_layers=2 #################\n",
    "# Parámetros para grid search\n",
    "patch_sizes = [2]\n",
    "projection_dims = [32, 128]\n",
    "num_heads_list = [2]\n",
    "transformer_layers_list = [2, 3, 5]\n",
    "\n",
    "results = []\n",
    "\n",
    "# Bucle de combinaciones\n",
    "for patch_size, projection_dim, num_heads, transformer_layers in itertools.product(\n",
    "        patch_sizes, projection_dims, num_heads_list, transformer_layers_list):\n",
    "\n",
    "    print(f\"ViT IGTD: patch_size={patch_size}, projection_dim={projection_dim}, num_heads={num_heads}, transformer_layers={transformer_layers}\")\n",
    "\n",
    "    model = create_vit_model(patch_size, projection_dim, num_heads, transformer_layers, [128, 64])\n",
    "    opt = AdamW()\n",
    "    model.compile(\n",
    "        optimizer=opt,\n",
    "        loss=\"sparse_categorical_crossentropy\",\n",
    "        metrics=METRICS\n",
    "    )\n",
    "\n",
    "    history = model.fit(\n",
    "        x=X_train_img,\n",
    "        y=y_train,\n",
    "        validation_data=(X_val_img, y_val),\n",
    "        epochs=100,\n",
    "        batch_size=64,\n",
    "        callbacks=[early_stopper],\n",
    "        verbose=0\n",
    "    )\n",
    "\n",
    "    y_pred_probs = model.predict(X_test_img)\n",
    "    y_pred = y_pred_probs.argmax(axis=1).astype(\"int32\")\n",
    "    oa = accuracy_score(y_test, y_pred)\n",
    "    prec_macro, rec_macro, f1_macro, _ = precision_recall_fscore_support(\n",
    "        y_test, y_pred, average=\"macro\", zero_division=0\n",
    "    )\n",
    "    cm = confusion_matrix(y_test, y_pred)\n",
    "    cm_row_percentage = cm.astype('float') / cm.sum(axis=1, keepdims=True) * 100\n",
    "    cm_row_percentage = np.nan_to_num(cm_row_percentage)  # handle division by zero\n",
    "\n",
    "    ConfusionMatrixDisplay(cm_row_percentage).plot(cmap='Blues')\n",
    "    plt.title(\"Matriz de confusión (%) - Vision Transformer (Test)\")\n",
    "    plt.show()\n",
    "\n",
    "    final_metrics = {\n",
    "        \"val_loss\":      history.history.get(\"val_loss\",      [-1])[-1],\n",
    "        \"val_accuracy\":  history.history.get(\"val_accuracy\",  [-1])[-1],\n",
    "        \"OA\":            float(oa),\n",
    "        \"precision_macro\": float(prec_macro),\n",
    "        \"recall_macro\":    float(rec_macro),\n",
    "        \"f1_macro\":        float(f1_macro),\n",
    "        \"confusion_matrix\": cm.tolist(),   # serializable a JSON/CSV\n",
    "    }\n",
    "\n",
    "    scores = model.evaluate(X_test_img, y_test, verbose=0)\n",
    "    score_dict = {metric.name: score for metric, score in zip(model.metrics, scores)}\n",
    "\n",
    "    result = {\n",
    "        \"patch_size\": patch_size,\n",
    "        \"projection_dim\": projection_dim,\n",
    "        \"num_heads\": num_heads,\n",
    "        \"transformer_layers\": transformer_layers,\n",
    "        **score_dict,\n",
    "        **final_metrics\n",
    "    }\n",
    "    results.append(result)\n",
    "\n",
    "    print(\n",
    "    f\"Val -> loss={final_metrics['val_loss']:.4f} | \"\n",
    "    f\"val_acc={final_metrics['val_accuracy']:.4f} | \"\n",
    "    f\"OA={final_metrics['OA']:.4f} | \"\n",
    "    f\"Prec(macro)={final_metrics['precision_macro']:.4f} | \"\n",
    "    f\"Recall(macro)={final_metrics['recall_macro']:.4f} | \"\n",
    "    f\"F1-macro={final_metrics['f1_macro']:.4f}\"\n",
    "    )\n",
    "    print(\"-\"*80)"
   ]
  },
  {
   "cell_type": "code",
   "execution_count": 19,
   "metadata": {},
   "outputs": [
    {
     "name": "stdout",
     "output_type": "stream",
     "text": [
      "Resultados guardados en Resultados/IGTD_ViT.csv\n"
     ]
    }
   ],
   "source": [
    "# Guardar CSV\n",
    "results_df = pd.DataFrame(results)\n",
    "results_df.to_csv(\"Resultados/IGTD_ViT.csv\", index=False)\n",
    "print(\"Resultados guardados en Resultados/IGTD_ViT.csv\")"
   ]
  }
 ],
 "metadata": {
  "accelerator": "GPU",
  "colab": {
   "gpuType": "T4",
   "provenance": []
  },
  "kernelspec": {
   "display_name": "tintoenv",
   "language": "python",
   "name": "python3"
  },
  "language_info": {
   "codemirror_mode": {
    "name": "ipython",
    "version": 3
   },
   "file_extension": ".py",
   "mimetype": "text/x-python",
   "name": "python",
   "nbconvert_exporter": "python",
   "pygments_lexer": "ipython3",
   "version": "3.11.13"
  }
 },
 "nbformat": 4,
 "nbformat_minor": 0
}
