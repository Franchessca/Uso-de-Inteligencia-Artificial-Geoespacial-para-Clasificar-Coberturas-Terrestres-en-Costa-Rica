{
 "cells": [
  {
   "cell_type": "markdown",
   "id": "b240c165",
   "metadata": {},
   "source": [
    "# Leer registros de pruebas"
   ]
  },
  {
   "cell_type": "markdown",
   "id": "67b94741",
   "metadata": {},
   "source": [
    "## Carpeta de Pruebas"
   ]
  },
  {
   "cell_type": "code",
   "execution_count": 9,
   "id": "3a8beda0",
   "metadata": {},
   "outputs": [
    {
     "name": "stdout",
     "output_type": "stream",
     "text": [
      "             timestamp  carpeta                                 script  \\\n",
      "0  2025-09-18T19:39:24  Pruebas  20250901_PruebasEntrenamientoRF.ipynb   \n",
      "\n",
      "      algoritmo                    dataset  clases_removidas  seed  n_train  \\\n",
      "0  RandomForest  PuntosMuestra_CR_2023.csv                 2    42    20439   \n",
      "\n",
      "   n_test  n_features  num_classes  fit_seconds  pred_seconds  ms_per_sample  \\\n",
      "0    8760          13            6       0.9076         0.062          0.007   \n",
      "\n",
      "       OA  F1_macro                                        system_info  \n",
      "0  0.8826    0.8161  {\"host\": \"IALB18\", \"user\": \"Fran\", \"os\": \"Wind...  \n",
      "Total experimentos: 1\n",
      "['RandomForest']\n"
     ]
    }
   ],
   "source": [
    "import pandas as pd\n",
    "import os\n",
    "\n",
    "ruta_carpeta_raiz = os.getcwd()\n",
    "carpeta_leer = \"Pruebas\"\n",
    "registros_path = os.path.join(ruta_carpeta_raiz, carpeta_leer, \"registros_log.csv\")\n",
    "df = pd.read_csv(registros_path)\n",
    "\n",
    "# Vista rápida\n",
    "print(df.head())\n",
    "\n",
    "# Ver cuántos experimentos guardaste\n",
    "print(\"Total experimentos:\", len(df))\n",
    "\n",
    "# Ver qué algoritmos probaste\n",
    "print(df[\"algoritmo\"].unique())"
   ]
  }
 ],
 "metadata": {
  "kernelspec": {
   "display_name": "Python 3",
   "language": "python",
   "name": "python3"
  },
  "language_info": {
   "codemirror_mode": {
    "name": "ipython",
    "version": 3
   },
   "file_extension": ".py",
   "mimetype": "text/x-python",
   "name": "python",
   "nbconvert_exporter": "python",
   "pygments_lexer": "ipython3",
   "version": "3.11.13"
  }
 },
 "nbformat": 4,
 "nbformat_minor": 5
}
