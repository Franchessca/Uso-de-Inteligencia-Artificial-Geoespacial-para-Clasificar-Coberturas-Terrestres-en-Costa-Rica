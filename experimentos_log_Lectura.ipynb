{
 "cells": [
  {
   "cell_type": "markdown",
   "id": "b240c165",
   "metadata": {},
   "source": [
    "# Leer registros de pruebas"
   ]
  },
  {
   "cell_type": "code",
   "execution_count": 48,
   "id": "3a8beda0",
   "metadata": {},
   "outputs": [
    {
     "name": "stdout",
     "output_type": "stream",
     "text": [
      "             timestamp                                  script  \\\n",
      "0  2025-09-04T17:39:51   20250901_PruebasEntrenamientoRF.ipynb   \n",
      "1  2025-09-04T17:59:07  20250901_PruebasEntrenamientoDNN.ipynb   \n",
      "2  2025-09-04T18:25:25  20250901_PruebasEntrenamientoViT.ipynb   \n",
      "3  2025-09-04T18:25:57  20250901_PruebasEntrenamientoXGB.ipynb   \n",
      "\n",
      "               algoritmo                                  dataset  \\\n",
      "0           RandomForest                PuntosMuestra_CR_2023.csv   \n",
      "1            MLP_tabular                PuntosMuestra_CR_2023.csv   \n",
      "2  ViT_tiny_linear_probe  PuntosMuestra_CR_tinto_synthetic_images   \n",
      "3                XGBoost                PuntosMuestra_CR_2023.csv   \n",
      "\n",
      "   clases_removidas  seed  n_train  n_test  n_features  num_classes  \\\n",
      "0                 2    42    20439    8760        13.0            6   \n",
      "1                 2    42     8760    8760         NaN            6   \n",
      "2                 2    42    20439    8760         NaN            6   \n",
      "3                 2    42    20439    8760        13.0            6   \n",
      "\n",
      "   fit_seconds  pred_seconds  ms_per_sample      OA  F1_macro  \\\n",
      "0       1.0931        0.0719          0.008  0.8826    0.8161   \n",
      "1     287.6801       30.0637          3.432  0.5234    0.1145   \n",
      "2     921.1593      374.0807         42.703  0.5210    0.1142   \n",
      "3       2.5380        0.0222          0.003  0.8871    0.8290   \n",
      "\n",
      "                                         system_info  \n",
      "0  {\"host\": \"IALB18\", \"user\": \"Fran\", \"os\": \"Wind...  \n",
      "1  {\"host\": \"IALB18\", \"user\": \"Fran\", \"os\": \"Wind...  \n",
      "2  {\"host\": \"IALB18\", \"user\": \"Fran\", \"os\": \"Wind...  \n",
      "3  {\"host\": \"IALB18\", \"user\": \"Fran\", \"os\": \"Wind...  \n",
      "Total experimentos: 4\n",
      "['RandomForest' 'MLP_tabular' 'ViT_tiny_linear_probe' 'XGBoost']\n"
     ]
    }
   ],
   "source": [
    "import pandas as pd\n",
    "\n",
    "df = pd.read_csv(\"experimentos_log.csv\")\n",
    "\n",
    "# Vista rápida\n",
    "print(df.head())\n",
    "\n",
    "# Ver cuántos experimentos guardaste\n",
    "print(\"Total experimentos:\", len(df))\n",
    "\n",
    "# Ver qué algoritmos probaste\n",
    "print(df[\"algoritmo\"].unique())"
   ]
  },
  {
   "cell_type": "code",
   "execution_count": 49,
   "id": "20204f62",
   "metadata": {},
   "outputs": [
    {
     "name": "stdout",
     "output_type": "stream",
     "text": [
      "timestamp,script,algoritmo,dataset,clases_removidas,seed,n_train,n_test,n_features,num_classes,fit_seconds,pred_seconds,ms_per_sample,OA,F1_macro,system_info\n",
      "\n",
      "2025-09-04T17:39:51,20250901_PruebasEntrenamientoRF.ipynb,RandomForest,PuntosMuestra_CR_2023.csv,2,42,20439,8760,13.0,6,1.0931,0.0719,0.008,0.8826,0.8161,\"{\"\"host\"\": \"\"IALB18\"\", \"\"user\"\": \"\"Fran\"\", \"\"os\"\": \"\"Windows 10\"\", \"\"machine\"\": \"\"AMD64\"\", \"\"processor\"\": \"\"Intel64 Family 6 Model 183 Stepping 1, GenuineIntel\"\", \"\"python\"\": \"\"3.11.13\"\", \"\"cpu_count_logical\"\": 32, \"\"cpu_count_physical\"\": 24, \"\"ram_gb\"\": 127.71, \"\"numpy\"\": \"\"2.3.2\"\", \"\"pandas\"\": \"\"2.3.2\"\", \"\"sklearn\"\": \"\"1.7.1\"\", \"\"torch\"\": \"\"2.8.0+cpu\"\", \"\"torchvision\"\": \"\"0.23.0+cpu\"\", \"\"timm\"\": \"\"1.0.19\"\", \"\"xgboost\"\": \"\"3.0.4\"\", \"\"cuda_available\"\": false, \"\"cuda_version\"\": null, \"\"gpu_name\"\": \"\"\"\"}\"\n",
      "\n",
      "2025-09-04T17:59:07,20250901_PruebasEntrenamientoDNN.ipynb,MLP_tabular,PuntosMuestra_CR_2023.csv,2,42,8760,8760,,6,287.6801,30.0637,3.432,0.5234,0.1145,\"{\"\"host\"\": \"\"IALB18\"\", \"\"user\"\": \"\"Fran\"\", \"\"os\"\": \"\"Windows 10\"\", \"\"machine\"\": \"\"AMD64\"\", \"\"processor\"\": \"\"Intel64 Family 6 Model 183 Stepping 1, GenuineIntel\"\", \"\"python\"\": \"\"3.11.13\"\", \"\"cpu_count_logical\"\": 32, \"\"cpu_count_physical\"\": 24, \"\"ram_gb\"\": 127.71, \"\"numpy\"\": \"\"2.3.2\"\", \"\"pandas\"\": \"\"2.3.2\"\", \"\"sklearn\"\": \"\"1.7.1\"\", \"\"torch\"\": \"\"2.8.0+cpu\"\", \"\"torchvision\"\": \"\"0.23.0+cpu\"\", \"\"timm\"\": \"\"1.0.19\"\", \"\"xgboost\"\": \"\"3.0.4\"\", \"\"cuda_available\"\": false, \"\"cuda_version\"\": null, \"\"gpu_name\"\": \"\"\"\"}\"\n",
      "\n",
      "2025-09-04T18:25:25,20250901_PruebasEntrenamientoViT.ipynb,ViT_tiny_linear_probe,PuntosMuestra_CR_tinto_synthetic_images,2,42,20439,8760,,6,921.1593,374.0807,42.703,0.521,0.1142,\"{\"\"host\"\": \"\"IALB18\"\", \"\"user\"\": \"\"Fran\"\", \"\"os\"\": \"\"Windows 10\"\", \"\"machine\"\": \"\"AMD64\"\", \"\"processor\"\": \"\"Intel64 Family 6 Model 183 Stepping 1, GenuineIntel\"\", \"\"python\"\": \"\"3.11.13\"\", \"\"cpu_count_logical\"\": 32, \"\"cpu_count_physical\"\": 24, \"\"ram_gb\"\": 127.71, \"\"numpy\"\": \"\"2.3.2\"\", \"\"pandas\"\": \"\"2.3.2\"\", \"\"sklearn\"\": \"\"1.7.1\"\", \"\"torch\"\": \"\"2.8.0+cpu\"\", \"\"torchvision\"\": \"\"0.23.0+cpu\"\", \"\"timm\"\": \"\"1.0.19\"\", \"\"xgboost\"\": \"\"3.0.4\"\", \"\"cuda_available\"\": false, \"\"cuda_version\"\": null, \"\"gpu_name\"\": \"\"\"\"}\"\n",
      "\n",
      "2025-09-04T18:25:57,20250901_PruebasEntrenamientoXGB.ipynb,XGBoost,PuntosMuestra_CR_2023.csv,2,42,20439,8760,13.0,6,2.538,0.0222,0.003,0.8871,0.829,\"{\"\"host\"\": \"\"IALB18\"\", \"\"user\"\": \"\"Fran\"\", \"\"os\"\": \"\"Windows 10\"\", \"\"machine\"\": \"\"AMD64\"\", \"\"processor\"\": \"\"Intel64 Family 6 Model 183 Stepping 1, GenuineIntel\"\", \"\"python\"\": \"\"3.11.13\"\", \"\"cpu_count_logical\"\": 32, \"\"cpu_count_physical\"\": 24, \"\"ram_gb\"\": 127.71, \"\"numpy\"\": \"\"2.3.2\"\", \"\"pandas\"\": \"\"2.3.2\"\", \"\"sklearn\"\": \"\"1.7.1\"\", \"\"torch\"\": \"\"2.8.0+cpu\"\", \"\"torchvision\"\": \"\"0.23.0+cpu\"\", \"\"timm\"\": \"\"1.0.19\"\", \"\"xgboost\"\": \"\"3.0.4\"\", \"\"cuda_available\"\": false, \"\"cuda_version\"\": null, \"\"gpu_name\"\": \"\"\"\"}\"\n",
      "\n"
     ]
    }
   ],
   "source": [
    "with open(\"experimentos_log.csv\", encoding=\"utf-8\") as f:\n",
    "    for i in range(5):\n",
    "        print(f.readline())\n"
   ]
  }
 ],
 "metadata": {
  "kernelspec": {
   "display_name": "tintoenv",
   "language": "python",
   "name": "python3"
  },
  "language_info": {
   "codemirror_mode": {
    "name": "ipython",
    "version": 3
   },
   "file_extension": ".py",
   "mimetype": "text/x-python",
   "name": "python",
   "nbconvert_exporter": "python",
   "pygments_lexer": "ipython3",
   "version": "3.11.13"
  }
 },
 "nbformat": 4,
 "nbformat_minor": 5
}
