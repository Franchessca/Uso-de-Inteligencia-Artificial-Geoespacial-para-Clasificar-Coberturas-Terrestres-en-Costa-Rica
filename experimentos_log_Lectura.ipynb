{
 "cells": [
  {
   "cell_type": "markdown",
   "id": "b240c165",
   "metadata": {},
   "source": [
    "# Leer registros de pruebas"
   ]
  },
  {
   "cell_type": "code",
   "execution_count": 35,
   "id": "3a8beda0",
   "metadata": {},
   "outputs": [
    {
     "name": "stdout",
     "output_type": "stream",
     "text": [
      "                                           timestamp  script  algoritmo  \\\n",
      "0  2025-09-04T17:39:51,20250901_PruebasEntrenamie...     NaN        NaN   \n",
      "1  2025-09-04T17:59:07,20250901_PruebasEntrenamie...     NaN        NaN   \n",
      "2  2025-09-04T18:25:25,20250901_PruebasEntrenamie...     NaN        NaN   \n",
      "3  2025-09-04T18:25:57,20250901_PruebasEntrenamie...     NaN        NaN   \n",
      "\n",
      "   dataset  clases_removidas  seed  n_train  n_test  n_features  num_classes  \\\n",
      "0      NaN               NaN   NaN      NaN     NaN         NaN          NaN   \n",
      "1      NaN               NaN   NaN      NaN     NaN         NaN          6.0   \n",
      "2      NaN               NaN   NaN      NaN     NaN         NaN          6.0   \n",
      "3      NaN               NaN   NaN      NaN     NaN         NaN          NaN   \n",
      "\n",
      "   fit_seconds  pred_seconds  ms_per_sample  OA  F1_macro  \n",
      "0          NaN           NaN            NaN NaN       NaN  \n",
      "1          NaN           NaN            NaN NaN       NaN  \n",
      "2          NaN           NaN            NaN NaN       NaN  \n",
      "3          NaN           NaN            NaN NaN       NaN  \n",
      "Total experimentos: 4\n",
      "[nan]\n"
     ]
    }
   ],
   "source": [
    "import pandas as pd\n",
    "\n",
    "df = pd.read_csv(\"experimentos_log_expanded.csv\")\n",
    "\n",
    "# Vista rápida\n",
    "print(df.head())\n",
    "\n",
    "# Ver cuántos experimentos guardaste\n",
    "print(\"Total experimentos:\", len(df))\n",
    "\n",
    "# Ver qué algoritmos probaste\n",
    "print(df[\"algoritmo\"].unique())"
   ]
  },
  {
   "cell_type": "code",
   "execution_count": 18,
   "id": "20204f62",
   "metadata": {},
   "outputs": [
    {
     "name": "stdout",
     "output_type": "stream",
     "text": [
      "timestamp,script,algoritmo,dataset,clases_removidas,seed,n_train,n_test,n_features,num_classes,fit_seconds,pred_seconds,ms_per_sample,OA,F1_macro,system_info\n",
      "\n",
      "\"2025-09-04T17:39:51,20250901_PruebasEntrenamientoRF.ipynb,RandomForest,PuntosMuestra_CR_2023.csv,2,42,20439,8760,13,6,1.0931,0.0719,0.008,0.8826,0.8161,\"\"{\"\"\"\"host\"\"\"\": \"\"\"\"IALB18\"\"\"\", \"\"\"\"user\"\"\"\": \"\"\"\"Fran\"\"\"\", \"\"\"\"os\"\"\"\": \"\"\"\"Windows 10\"\"\"\", \"\"\"\"machine\"\"\"\": \"\"\"\"AMD64\"\"\"\", \"\"\"\"processor\"\"\"\": \"\"\"\"Intel64 Family 6 Model 183 Stepping 1, GenuineIntel\"\"\"\", \"\"\"\"python\"\"\"\": \"\"\"\"3.11.13\"\"\"\", \"\"\"\"cpu_count_logical\"\"\"\": 32, \"\"\"\"cpu_count_physical\"\"\"\": 24, \"\"\"\"ram_gb\"\"\"\": 127.71, \"\"\"\"numpy\"\"\"\": \"\"\"\"2.3.2\"\"\"\", \"\"\"\"pandas\"\"\"\": \"\"\"\"2.3.2\"\"\"\", \"\"\"\"sklearn\"\"\"\": \"\"\"\"1.7.1\"\"\"\", \"\"\"\"torch\"\"\"\": \"\"\"\"2.8.0+cpu\"\"\"\", \"\"\"\"torchvision\"\"\"\": \"\"\"\"0.23.0+cpu\"\"\"\", \"\"\"\"timm\"\"\"\": \"\"\"\"1.0.19\"\"\"\", \"\"\"\"xgboost\"\"\"\": \"\"\"\"3.0.4\"\"\"\", \"\"\"\"cuda_available\"\"\"\": false, \"\"\"\"cuda_version\"\"\"\": null, \"\"\"\"gpu_name\"\"\"\": \"\"\"\"\"\"\"\"}\"\"\",,,,,,,,,,,,,,,\n",
      "\n",
      "\"2025-09-04T17:59:07,20250901_PruebasEntrenamientoDNN.ipynb,MLP_tabular,PuntosMuestra_CR_2023.csv,2,42,8760,8760,,6,287.6801,30.0637,3.432,0.5234,0.1145,\"\"{\"\"\"\"host\"\"\"\": \"\"\"\"IALB18\"\"\"\", \"\"\"\"user\"\"\"\": \"\"\"\"Fran\"\"\"\", \"\"\"\"os\"\"\"\": \"\"\"\"Windows 10\"\"\"\", \"\"\"\"machine\"\"\"\": \"\"\"\"AMD64\"\"\"\", \"\"\"\"processor\"\"\"\": \"\"\"\"Intel64 Family 6 Model 183 Stepping 1, GenuineIntel\"\"\"\", \"\"\"\"python\"\"\"\": \"\"\"\"3.11.13\"\"\"\", \"\"\"\"cpu_count_logical\"\"\"\": 32, \"\"\"\"cpu_count_physical\"\"\"\": 24, \"\"\"\"ram_gb\"\"\"\": 127.71, \"\"\"\"numpy\"\"\"\": \"\"\"\"2.3.2\"\"\"\", \"\"\"\"pandas\"\"\"\": \"\"\"\"2.3.2\"\"\"\", \"\"\"\"sklearn\"\"\"\": \"\"\"\"1.7.1\"\"\"\", \"\"\"\"torch\"\"\"\": \"\"\"\"2.8.0+cpu\"\"\"\", \"\"\"\"torchvision\"\"\"\": \"\"\"\"0.23.0+cpu\"\"\"\", \"\"\"\"timm\"\"\"\": \"\"\"\"1.0.19\"\"\"\", \"\"\"\"xgboost\"\"\"\": \"\"\"\"3.0.4\"\"\"\", \"\"\"\"cuda_available\"\"\"\": false, \"\"\"\"cuda_version\"\"\"\": null, \"\"\"\"gpu_name\"\"\"\": \"\"\"\"\"\"\"\"}\"\"\",,,,,,,,,6.0,,,,,,\n",
      "\n",
      "\"2025-09-04T18:25:25,20250901_PruebasEntrenamientoViT.ipynb,ViT_tiny_linear_probe,PuntosMuestra_CR_tinto_synthetic_images,02,42,20439,8760,,6,921.1593,374.0807,42.703,0.521,0.1142,\"\"{\"\"\"\"host\"\"\"\": \"\"\"\"IALB18\"\"\"\", \"\"\"\"user\"\"\"\": \"\"\"\"Fran\"\"\"\", \"\"\"\"os\"\"\"\": \"\"\"\"Windows 10\"\"\"\", \"\"\"\"machine\"\"\"\": \"\"\"\"AMD64\"\"\"\", \"\"\"\"processor\"\"\"\": \"\"\"\"Intel64 Family 6 Model 183 Stepping 1, GenuineIntel\"\"\"\", \"\"\"\"python\"\"\"\": \"\"\"\"3.11.13\"\"\"\", \"\"\"\"cpu_count_logical\"\"\"\": 32, \"\"\"\"cpu_count_physical\"\"\"\": 24, \"\"\"\"ram_gb\"\"\"\": 127.71, \"\"\"\"numpy\"\"\"\": \"\"\"\"2.3.2\"\"\"\", \"\"\"\"pandas\"\"\"\": \"\"\"\"2.3.2\"\"\"\", \"\"\"\"sklearn\"\"\"\": \"\"\"\"1.7.1\"\"\"\", \"\"\"\"torch\"\"\"\": \"\"\"\"2.8.0+cpu\"\"\"\", \"\"\"\"torchvision\"\"\"\": \"\"\"\"0.23.0+cpu\"\"\"\", \"\"\"\"timm\"\"\"\": \"\"\"\"1.0.19\"\"\"\", \"\"\"\"xgboost\"\"\"\": \"\"\"\"3.0.4\"\"\"\", \"\"\"\"cuda_available\"\"\"\": false, \"\"\"\"cuda_version\"\"\"\": null, \"\"\"\"gpu_name\"\"\"\": \"\"\"\"\"\"\"\"}\"\"\",,,,,,,,,6.0,,,,,,\n",
      "\n",
      "\"2025-09-04T18:25:57,20250901_PruebasEntrenamientoXGB.ipynb,XGBoost,PuntosMuestra_CR_2023.csv,2,42,20439,8760,13,6,2.538,0.0222,0.003,0.8871,0.829,\"\"{\"\"\"\"host\"\"\"\": \"\"\"\"IALB18\"\"\"\", \"\"\"\"user\"\"\"\": \"\"\"\"Fran\"\"\"\", \"\"\"\"os\"\"\"\": \"\"\"\"Windows 10\"\"\"\", \"\"\"\"machine\"\"\"\": \"\"\"\"AMD64\"\"\"\", \"\"\"\"processor\"\"\"\": \"\"\"\"Intel64 Family 6 Model 183 Stepping 1, GenuineIntel\"\"\"\", \"\"\"\"python\"\"\"\": \"\"\"\"3.11.13\"\"\"\", \"\"\"\"cpu_count_logical\"\"\"\": 32, \"\"\"\"cpu_count_physical\"\"\"\": 24, \"\"\"\"ram_gb\"\"\"\": 127.71, \"\"\"\"numpy\"\"\"\": \"\"\"\"2.3.2\"\"\"\", \"\"\"\"pandas\"\"\"\": \"\"\"\"2.3.2\"\"\"\", \"\"\"\"sklearn\"\"\"\": \"\"\"\"1.7.1\"\"\"\", \"\"\"\"torch\"\"\"\": \"\"\"\"2.8.0+cpu\"\"\"\", \"\"\"\"torchvision\"\"\"\": \"\"\"\"0.23.0+cpu\"\"\"\", \"\"\"\"timm\"\"\"\": \"\"\"\"1.0.19\"\"\"\", \"\"\"\"xgboost\"\"\"\": \"\"\"\"3.0.4\"\"\"\", \"\"\"\"cuda_available\"\"\"\": false, \"\"\"\"cuda_version\"\"\"\": null, \"\"\"\"gpu_name\"\"\"\": \"\"\"\"\"\"\"\"}\"\"\",,,,,,,,,,,,,,,\n",
      "\n"
     ]
    }
   ],
   "source": [
    "with open(\"experimentos_log.csv\", encoding=\"utf-8\") as f:\n",
    "    for i in range(5):\n",
    "        print(f.readline())\n"
   ]
  },
  {
   "cell_type": "code",
   "execution_count": 23,
   "id": "f2149dff",
   "metadata": {},
   "outputs": [
    {
     "name": "stdout",
     "output_type": "stream",
     "text": [
      "Reparado → experimentos_log_fixed.csv con 4 filas.\n"
     ]
    }
   ],
   "source": [
    "import csv\n",
    "\n",
    "SRC = \"experimentos_log.csv\"\n",
    "DST = \"experimentos_log_fixed.csv\"\n",
    "\n",
    "# Cabecera esperada\n",
    "COLUMNS = [\n",
    "    \"timestamp\",\"script\",\"algoritmo\",\"dataset\",\"clases_removidas\",\"seed\",\n",
    "    \"n_train\",\"n_test\",\"n_features\",\"num_classes\",\n",
    "    \"fit_seconds\",\"pred_seconds\",\"ms_per_sample\",\"OA\",\"F1_macro\",\"system_info\"\n",
    "]\n",
    "\n",
    "with open(SRC, encoding=\"utf-8\") as f:\n",
    "    lines = f.read().splitlines()\n",
    "\n",
    "# parseamos la cabecera original si existe; si no, forzamos la correcta\n",
    "try:\n",
    "    header = next(csv.reader([lines[0]]))\n",
    "except Exception:\n",
    "    header = COLUMNS\n",
    "\n",
    "if header != COLUMNS:\n",
    "    header = COLUMNS\n",
    "    data_lines = lines  # por si tu archivo no tenía cabecera válida\n",
    "else:\n",
    "    data_lines = lines[1:]\n",
    "\n",
    "out_rows = []\n",
    "\n",
    "for i, line in enumerate(data_lines, start=2):\n",
    "    fixed_line = line\n",
    "    # 1) si la fila está envuelta en comillas, quitamos la 1ª y cortamos en la última\n",
    "    if fixed_line.startswith('\"'):\n",
    "        lastq = fixed_line.rfind('\"')\n",
    "        if lastq > 0:\n",
    "            fixed_line = fixed_line[1:lastq]  # sin comillas exteriores\n",
    "    # 2) ahora parseamos la fila ya \"desenvuelta\"\n",
    "    row = next(csv.reader([fixed_line]))\n",
    "    # si sobran comas al final (celdas vacías), las ignoramos\n",
    "    if len(row) > len(COLUMNS):\n",
    "        row = row[:len(COLUMNS)]\n",
    "    # si faltan columnas, completamos con vacíos\n",
    "    if len(row) < len(COLUMNS):\n",
    "        row = row + [\"\"] * (len(COLUMNS) - len(row))\n",
    "    out_rows.append(row)\n",
    "\n",
    "with open(DST, \"w\", newline=\"\", encoding=\"utf-8\") as fout:\n",
    "    w = csv.writer(fout)\n",
    "    w.writerow(COLUMNS)\n",
    "    w.writerows(out_rows)\n",
    "\n",
    "print(f\"Reparado → {DST} con {len(out_rows)} filas.\")\n"
   ]
  },
  {
   "cell_type": "code",
   "execution_count": null,
   "id": "23263cab",
   "metadata": {},
   "outputs": [
    {
     "name": "stdout",
     "output_type": "stream",
     "text": [
      "Guardado: experimentos_log_clean.csv\n",
      "Guardado: experimentos_log_expanded.csv\n",
      "                                           timestamp  script  algoritmo  \\\n",
      "0  2025-09-04T17:39:51,20250901_PruebasEntrenamie...     NaN        NaN   \n",
      "1  2025-09-04T17:59:07,20250901_PruebasEntrenamie...     NaN        NaN   \n",
      "2  2025-09-04T18:25:25,20250901_PruebasEntrenamie...     NaN        NaN   \n",
      "3  2025-09-04T18:25:57,20250901_PruebasEntrenamie...     NaN        NaN   \n",
      "\n",
      "   dataset  clases_removidas  seed  n_train  n_test  n_features  num_classes  \\\n",
      "0      NaN               NaN   NaN      NaN     NaN         NaN          NaN   \n",
      "1      NaN               NaN   NaN      NaN     NaN         NaN          6.0   \n",
      "2      NaN               NaN   NaN      NaN     NaN         NaN          6.0   \n",
      "3      NaN               NaN   NaN      NaN     NaN         NaN          NaN   \n",
      "\n",
      "   fit_seconds  pred_seconds  ms_per_sample  OA  F1_macro  \n",
      "0          NaN           NaN            NaN NaN       NaN  \n",
      "1          NaN           NaN            NaN NaN       NaN  \n",
      "2          NaN           NaN            NaN NaN       NaN  \n",
      "3          NaN           NaN            NaN NaN       NaN  \n"
     ]
    }
   ],
   "source": [
    "import pandas as pd, json, re\n",
    "\n",
    "# lee el CSV reparado que ya te funciona\n",
    "df = pd.read_csv(\"experimentos_log_fixed.csv\", engine=\"python\")\n",
    "\n",
    "def fix_sysinfo_cell(s):\n",
    "    if pd.isna(s): \n",
    "        return None\n",
    "    t = str(s).strip()\n",
    "    # quitar comillas exteriores si quedaron\n",
    "    if t.startswith('\"') and t.endswith('\"'):\n",
    "        t = t[1:-1]\n",
    "    # colapsar comillas duplicadas\n",
    "    t = t.replace('\"\"\"\"', '\"').replace('\"\"', '\"')\n",
    "    t = re.sub(r'\\s+', ' ', t)\n",
    "    try:\n",
    "        obj = json.loads(t)\n",
    "        # devolver como JSON bien formateado\n",
    "        return json.dumps(obj, ensure_ascii=False)\n",
    "    except Exception:\n",
    "        # si no pudo parsear, lo dejamos vacío\n",
    "        return None\n",
    "\n",
    "# normaliza la columna\n",
    "df[\"system_info\"] = df[\"system_info\"].apply(fix_sysinfo_cell)\n",
    "\n",
    "# guarda un CSV limpio con el JSON ya normalizado\n",
    "df.to_csv(\"experimentos_log_clean.csv\", index=False)\n",
    "print(\"Guardado: experimentos_log_clean.csv\")\n",
    "\n",
    "# (opcional) expandir system_info -> columnas\n",
    "sysdict = df[\"system_info\"].dropna().apply(json.loads)\n",
    "df_sys = pd.json_normalize(sysdict)\n",
    "df_full = pd.concat([df.drop(columns=[\"system_info\"]), df_sys], axis=1)\n",
    "\n",
    "df_full.to_csv(\"experimentos_log_expanded.csv\", index=False)\n",
    "print(\"Guardado: experimentos_log_expanded.csv\")\n",
    "print(df_full.head())\n"
   ]
  },
  {
   "cell_type": "code",
   "execution_count": 38,
   "id": "9e02dc42",
   "metadata": {},
   "outputs": [
    {
     "name": "stdout",
     "output_type": "stream",
     "text": [
      "['timestamp', 'script', 'algoritmo', 'dataset', 'clases_removidas', 'seed', 'n_train', 'n_test', 'n_features', 'num_classes', 'fit_seconds', 'pred_seconds', 'ms_per_sample', 'OA', 'F1_macro', 'system_info']\n",
      "               algoritmo  system_info\n",
      "0           RandomForest          NaN\n",
      "1            MLP_tabular          NaN\n",
      "2  ViT_tiny_linear_probe          NaN\n",
      "3                XGBoost          NaN\n",
      "Nulos en system_info: 4\n"
     ]
    }
   ],
   "source": [
    "import pandas as pd\n",
    "\n",
    "df = pd.read_csv(\"experimentos_log_clean.csv\")\n",
    "print(df.columns.tolist())\n",
    "print(df[[\"algoritmo\",\"system_info\"]].head())\n",
    "print(\"Nulos en system_info:\", df[\"system_info\"].isna().sum())\n"
   ]
  }
 ],
 "metadata": {
  "kernelspec": {
   "display_name": "tintoenv",
   "language": "python",
   "name": "python3"
  },
  "language_info": {
   "codemirror_mode": {
    "name": "ipython",
    "version": 3
   },
   "file_extension": ".py",
   "mimetype": "text/x-python",
   "name": "python",
   "nbconvert_exporter": "python",
   "pygments_lexer": "ipython3",
   "version": "3.11.13"
  }
 },
 "nbformat": 4,
 "nbformat_minor": 5
}
