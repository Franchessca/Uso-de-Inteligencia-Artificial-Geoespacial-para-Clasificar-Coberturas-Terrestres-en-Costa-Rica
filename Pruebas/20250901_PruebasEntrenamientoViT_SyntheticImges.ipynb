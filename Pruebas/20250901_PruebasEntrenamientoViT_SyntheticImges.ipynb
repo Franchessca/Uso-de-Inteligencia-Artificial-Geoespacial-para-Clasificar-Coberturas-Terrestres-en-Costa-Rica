{
 "cells": [
  {
   "cell_type": "code",
   "execution_count": 1,
   "metadata": {},
   "outputs": [],
   "source": [
    "import torch\n",
    "import torch.nn as nn\n",
    "from torchvision import models, datasets, transforms\n",
    "import os"
   ]
  },
  {
   "cell_type": "markdown",
   "metadata": {},
   "source": [
    "# Modelo Transformer ViT"
   ]
  },
  {
   "cell_type": "code",
   "execution_count": 2,
   "metadata": {},
   "outputs": [],
   "source": [
    "from torchvision import transforms\n",
    "\n",
    "transform = transforms.Compose([\n",
    "    transforms.Grayscale(num_output_channels=3),  # ViT espera 3 canales\n",
    "    transforms.Resize((224,224)),                 # ViT espera 224x224\n",
    "    transforms.ToTensor(),\n",
    "    transforms.Normalize(mean=[0.5,0.5,0.5], std=[0.5,0.5,0.5])  # normalización básica\n",
    "])\n"
   ]
  },
  {
   "cell_type": "code",
   "execution_count": 3,
   "metadata": {},
   "outputs": [
    {
     "name": "stdout",
     "output_type": "stream",
     "text": [
      "Número de clases: 7\n"
     ]
    }
   ],
   "source": [
    "ruta_carpeta_actual = os.getcwd()\n",
    "ruta_carpeta_raiz = os.path.dirname(ruta_carpeta_actual)\n",
    "data_dir  = os.path.join(ruta_carpeta_raiz, \"dataset\", \"PuntosMuestra_CR_2023_tinto_synthetic_images_prueba\")\n",
    "\n",
    "dataset = datasets.ImageFolder(root=data_dir, transform=transform)\n",
    "\n",
    "num_classes = len(dataset.classes)\n",
    "print(\"Número de clases:\", num_classes)"
   ]
  },
  {
   "cell_type": "markdown",
   "metadata": {},
   "source": [
    "## Limpieza de datos"
   ]
  },
  {
   "cell_type": "code",
   "execution_count": 4,
   "metadata": {},
   "outputs": [
    {
     "name": "stdout",
     "output_type": "stream",
     "text": [
      " Clase 02 eliminada (índice antiguo 1).\n",
      "Clases activas: ['01', '03', '04', '06', '07', '10']\n",
      "Nuevo class_to_idx: {'01': 0, '03': 1, '04': 2, '06': 3, '07': 4, '10': 5}\n",
      "num_classes: 6\n"
     ]
    }
   ],
   "source": [
    "# --- eliminar clase 02  ---\n",
    "desc_cat = \"02\"\n",
    "if desc_cat in dataset.class_to_idx:\n",
    "    idx_c2 = dataset.class_to_idx[desc_cat]\n",
    "    dataset.samples = [s for s in dataset.samples if s[1] != idx_c2]\n",
    "    dataset.targets = [t for t in dataset.targets if t != idx_c2]\n",
    "    print(f\" Clase {desc_cat} eliminada (índice antiguo {idx_c2}).\")\n",
    "else:\n",
    "    print(f\"ℹ No existe carpeta {desc_cat}; no se filtró nada.\")\n",
    "\n",
    "# --- remapear etiquetas a 0..K-1 (crítico) ---\n",
    "unique_old = sorted(set(t for _, t in dataset.samples))\n",
    "old2new = {old:i for i, old in enumerate(unique_old)}\n",
    "dataset.samples = [(p, old2new[t]) for (p, t) in dataset.samples]\n",
    "dataset.targets = [old2new[t] for t in dataset.targets]\n",
    "\n",
    "# reconstruir mapping de nombres de carpeta a índices nuevos\n",
    "idx2class = {v:k for k,v in dataset.class_to_idx.items()}\n",
    "dataset.class_to_idx = {idx2class[old]: new for old, new in old2new.items()}\n",
    "dataset.classes = [c for c,_ in sorted(dataset.class_to_idx.items(), key=lambda kv: kv[1])]\n",
    "\n",
    "num_classes = len(dataset.classes)\n",
    "print(\"Clases activas:\", dataset.classes)\n",
    "print(\"Nuevo class_to_idx:\", dataset.class_to_idx)\n",
    "print(\"num_classes:\", num_classes)"
   ]
  },
  {
   "cell_type": "markdown",
   "metadata": {},
   "source": [
    "## Preparar entrenamiento"
   ]
  },
  {
   "cell_type": "code",
   "execution_count": 5,
   "metadata": {},
   "outputs": [],
   "source": [
    "from torch.utils.data import random_split, DataLoader\n",
    "\n",
    "n = len(dataset)\n",
    "n_tr = int(0.7*n)\n",
    "train_ds, test_ds = random_split(dataset, [n_tr, n-n_tr], generator=torch.Generator().manual_seed(42))\n",
    "\n",
    "train_dl = DataLoader(train_ds, batch_size=32, shuffle=True,  num_workers=2, pin_memory=torch.cuda.is_available())\n",
    "test_dl  = DataLoader(test_ds,  batch_size=64, shuffle=False, num_workers=2, pin_memory=torch.cuda.is_available())"
   ]
  },
  {
   "cell_type": "markdown",
   "metadata": {},
   "source": [
    "## Definir modelo"
   ]
  },
  {
   "cell_type": "code",
   "execution_count": 6,
   "metadata": {},
   "outputs": [],
   "source": [
    "import torch.nn as nn\n",
    "from torchvision import models\n",
    "\n",
    "device = torch.device(\"cuda\" if torch.cuda.is_available() else \"cpu\")\n",
    "\n",
    "model = models.vit_b_16(weights=None)  # (o weights=\"IMAGENET1K_V1\" para fine-tuning)\n",
    "model.heads = nn.Linear(model.heads.head.in_features, num_classes)\n",
    "model = model.to(device)"
   ]
  },
  {
   "cell_type": "markdown",
   "metadata": {},
   "source": [
    "## Entrenamiento y validacion"
   ]
  },
  {
   "cell_type": "code",
   "execution_count": 7,
   "metadata": {},
   "outputs": [
    {
     "name": "stderr",
     "output_type": "stream",
     "text": [
      "C:\\Users\\Fran\\AppData\\Local\\Temp\\ipykernel_82784\\1850584489.py:21: FutureWarning: `torch.cuda.amp.GradScaler(args...)` is deprecated. Please use `torch.amp.GradScaler('cuda', args...)` instead.\n",
      "  scaler = torch.cuda.amp.GradScaler(enabled=use_cuda)\n",
      "C:\\Users\\Fran\\AppData\\Local\\Temp\\ipykernel_82784\\1850584489.py:33: FutureWarning: `torch.cuda.amp.autocast(args...)` is deprecated. Please use `torch.amp.autocast('cuda', args...)` instead.\n",
      "  with torch.cuda.amp.autocast(enabled=use_cuda):\n"
     ]
    },
    {
     "name": "stdout",
     "output_type": "stream",
     "text": [
      "⏱ ViT – entrenamiento (linear probe, 1 ep): 892.32s\n"
     ]
    },
    {
     "name": "stderr",
     "output_type": "stream",
     "text": [
      "C:\\Users\\Fran\\AppData\\Local\\Temp\\ipykernel_82784\\1850584489.py:47: FutureWarning: `torch.cuda.amp.autocast(args...)` is deprecated. Please use `torch.amp.autocast('cuda', args...)` instead.\n",
      "  with torch.no_grad(), torch.cuda.amp.autocast(enabled=use_cuda):\n"
     ]
    },
    {
     "name": "stdout",
     "output_type": "stream",
     "text": [
      "⏱ ViT – predicción: 371.553s  (42.41 ms/muestra)\n"
     ]
    }
   ],
   "source": [
    "import time\n",
    "from sklearn.metrics import accuracy_score, f1_score, confusion_matrix, classification_report\n",
    "\n",
    "# --- entrenar SOLO la cabeza (linear probe) ---\n",
    "# congela todo\n",
    "for p in model.parameters():\n",
    "    p.requires_grad = False\n",
    "\n",
    "# localiza la cabeza (torchvision usa \"heads\", timm usa \"head\")\n",
    "head = getattr(model, \"head\", None) or getattr(model, \"heads\", None)\n",
    "if head is None:\n",
    "    raise RuntimeError(\"No se encontró 'head'/'heads' en el modelo ViT.\")\n",
    "for p in head.parameters():\n",
    "    p.requires_grad = True\n",
    "\n",
    "# optimizador SOLO de la cabeza (más rápido)\n",
    "opt  = torch.optim.Adam(head.parameters(), lr=2e-4)\n",
    "crit = nn.CrossEntropyLoss()\n",
    "\n",
    "use_cuda = torch.cuda.is_available()\n",
    "scaler = torch.cuda.amp.GradScaler(enabled=use_cuda)\n",
    "if use_cuda:\n",
    "    torch.backends.cudnn.benchmark = True  # acelera convoluciones si aplica\n",
    "\n",
    "# --- entrenamiento (pocas épocas y AMP) ---\n",
    "epochs = 1  # prueba rápida; sube a 2–3 cuando quieras\n",
    "t0 = time.perf_counter()\n",
    "for _ in range(epochs):\n",
    "    model.train()\n",
    "    for x, y in train_dl:\n",
    "        x, y = x.to(device, non_blocking=use_cuda), y.to(device, non_blocking=use_cuda)\n",
    "        opt.zero_grad(set_to_none=True)\n",
    "        with torch.cuda.amp.autocast(enabled=use_cuda):\n",
    "            logits = model(x)\n",
    "            loss   = crit(logits, y)\n",
    "        scaler.scale(loss).backward()\n",
    "        scaler.step(opt)\n",
    "        scaler.update()\n",
    "t1 = time.perf_counter()\n",
    "fit_s = t1 - t0\n",
    "print(f\"⏱ ViT – entrenamiento (linear probe, {epochs} ep): {fit_s:.2f}s\")\n",
    "\n",
    "# --- inferencia (AMP y no_grad) ---\n",
    "t0 = time.perf_counter()\n",
    "y_true, y_pred = [], []\n",
    "model.eval()\n",
    "with torch.no_grad(), torch.cuda.amp.autocast(enabled=use_cuda):\n",
    "    for x, y in test_dl:\n",
    "        x = x.to(device, non_blocking=use_cuda)\n",
    "        logits = model(x)\n",
    "        preds = logits.argmax(1).cpu().tolist()\n",
    "        y_pred += preds\n",
    "        y_true += y.tolist()\n",
    "t1 = time.perf_counter()\n",
    "pred_s = t1 - t0\n",
    "print(f\"⏱ ViT – predicción: {pred_s:.3f}s  ({pred_s/len(y_true)*1000:.2f} ms/muestra)\")"
   ]
  },
  {
   "cell_type": "markdown",
   "metadata": {},
   "source": [
    "## Metricas"
   ]
  },
  {
   "cell_type": "code",
   "execution_count": 8,
   "metadata": {},
   "outputs": [
    {
     "name": "stdout",
     "output_type": "stream",
     "text": [
      "OA: 0.521\n",
      "F1 macro: 0.114\n",
      "Matriz de confusión:\n",
      " [[   0 2444    0    0    0    0]\n",
      " [   0 4564    0    0    0    0]\n",
      " [   0  332    0    0    0    0]\n",
      " [   0  363    0    0    0    0]\n",
      " [   0  433    0    0    0    0]\n",
      " [   0  624    0    0    0    0]]\n",
      "Matriz de confusión porcentajes:\n",
      " [[  0. 100.   0.   0.   0.   0.]\n",
      " [  0. 100.   0.   0.   0.   0.]\n",
      " [  0. 100.   0.   0.   0.   0.]\n",
      " [  0. 100.   0.   0.   0.   0.]\n",
      " [  0. 100.   0.   0.   0.   0.]\n",
      " [  0. 100.   0.   0.   0.   0.]]\n",
      "\n",
      "Reporte por clase:\n",
      "               precision    recall  f1-score   support\n",
      "\n",
      "          01      0.000     0.000     0.000      2444\n",
      "          03      0.521     1.000     0.685      4564\n",
      "          04      0.000     0.000     0.000       332\n",
      "          06      0.000     0.000     0.000       363\n",
      "          07      0.000     0.000     0.000       433\n",
      "          10      0.000     0.000     0.000       624\n",
      "\n",
      "    accuracy                          0.521      8760\n",
      "   macro avg      0.087     0.167     0.114      8760\n",
      "weighted avg      0.271     0.521     0.357      8760\n",
      "\n"
     ]
    },
    {
     "name": "stderr",
     "output_type": "stream",
     "text": [
      "c:\\Users\\Fran\\anaconda3\\envs\\tintoenv\\Lib\\site-packages\\sklearn\\metrics\\_classification.py:1565: UndefinedMetricWarning: Precision is ill-defined and being set to 0.0 in labels with no predicted samples. Use `zero_division` parameter to control this behavior.\n",
      "  _warn_prf(average, modifier, f\"{metric.capitalize()} is\", len(result))\n",
      "c:\\Users\\Fran\\anaconda3\\envs\\tintoenv\\Lib\\site-packages\\sklearn\\metrics\\_classification.py:1565: UndefinedMetricWarning: Precision is ill-defined and being set to 0.0 in labels with no predicted samples. Use `zero_division` parameter to control this behavior.\n",
      "  _warn_prf(average, modifier, f\"{metric.capitalize()} is\", len(result))\n",
      "c:\\Users\\Fran\\anaconda3\\envs\\tintoenv\\Lib\\site-packages\\sklearn\\metrics\\_classification.py:1565: UndefinedMetricWarning: Precision is ill-defined and being set to 0.0 in labels with no predicted samples. Use `zero_division` parameter to control this behavior.\n",
      "  _warn_prf(average, modifier, f\"{metric.capitalize()} is\", len(result))\n"
     ]
    }
   ],
   "source": [
    "import numpy as np\n",
    "# ----- 6) Métricas extras -----\n",
    "# --- métricas ---\n",
    "oa  = accuracy_score(y_true, y_pred)\n",
    "f1m = f1_score(y_true, y_pred, average=\"macro\")\n",
    "cm  = confusion_matrix(y_true, y_pred)\n",
    "cm_row_percentage = cm.astype('float') / cm.sum(axis=1, keepdims=True) * 100\n",
    "cm_row_percentage = np.nan_to_num(cm_row_percentage)  # handle division by zero\n",
    "\n",
    "print(f\"OA: {oa:.3f}\")\n",
    "print(f\"F1 macro: {f1m:.3f}\")\n",
    "print(\"Matriz de confusión:\\n\", cm)\n",
    "print(\"Matriz de confusión porcentajes:\\n\", cm_row_percentage)\n",
    "print(\"\\nReporte por clase:\\n\", classification_report(y_true, y_pred, target_names=dataset.classes, digits=3))"
   ]
  },
  {
   "cell_type": "markdown",
   "metadata": {},
   "source": [
    "### Matriz de confusion"
   ]
  },
  {
   "cell_type": "code",
   "execution_count": 10,
   "metadata": {},
   "outputs": [
    {
     "data": {
      "image/png": "[encoded data removed]",
      "text/plain": [
       "<Figure size 600x500 with 2 Axes>"
      ]
     },
     "metadata": {},
     "output_type": "display_data"
    }
   ],
   "source": [
    "import matplotlib.pyplot as plt\n",
    "import seaborn as sns\n",
    "from sklearn.metrics import confusion_matrix\n",
    "\n",
    "# --- calcular matriz de confusión con los últimos resultados ---\n",
    "cm = confusion_matrix(y_true, y_pred, labels=np.unique(y))\n",
    "\n",
    "plt.figure(figsize=(6,5))\n",
    "sns.heatmap(cm_row_percentage, annot=True, cmap=\"Blues\",\n",
    "            xticklabels=np.unique(y),\n",
    "            yticklabels=np.unique(y))\n",
    "plt.xlabel(\"Predicción\")\n",
    "plt.ylabel(\"Verdadero\")\n",
    "plt.title(\"Matriz de Confusión (%) - Random Forest\")\n",
    "plt.show()"
   ]
  },
  {
   "cell_type": "markdown",
   "metadata": {},
   "source": [
    "# Registrar informacion"
   ]
  },
  {
   "cell_type": "code",
   "execution_count": null,
   "metadata": {},
   "outputs": [],
   "source": [
    "import sys\n",
    "sys.path.append(\"..\")\n",
    "import importlib, utils_log\n",
    "importlib.reload(utils_log)\n",
    "from utils_log import log_row\n",
    "\n",
    "carpeta_actual = ruta_carpeta_actual.split(\"\\\\\")[-1]\n",
    "dataset_utilizado = data_dir.split(\"\\\\\")[-1]\n",
    "\n",
    "log_row(\n",
    "  script=\"20250901_PruebasEntrenamientoViT.ipynb\",\n",
    "  algoritmo=\"ViT_tiny_linear_probe\",   # o \"ViT_base_full\"\n",
    "  dataset=dataset_utilizado,\n",
    "  clases_removidas=[\"02\"],\n",
    "  seed=42,\n",
    "  n_train=len(train_ds), n_test=len(test_ds),\n",
    "  n_features=None, num_classes=num_classes,\n",
    "  fit_seconds=fit_s, pred_seconds=pred_s,\n",
    "  ms_per_sample=(pred_s/len(y_true))*1000,\n",
    "  OA=oa, F1_macro=f1m,\n",
    "  carpeta=carpeta_actual\n",
    ")"
   ]
  }
 ],
 "metadata": {
  "kernelspec": {
   "display_name": "tintoenv",
   "language": "python",
   "name": "python3"
  },
  "language_info": {
   "codemirror_mode": {
    "name": "ipython",
    "version": 3
   },
   "file_extension": ".py",
   "mimetype": "text/x-python",
   "name": "python",
   "nbconvert_exporter": "python",
   "pygments_lexer": "ipython3",
   "version": "3.11.13"
  },
  "orig_nbformat": 4
 },
 "nbformat": 4,
 "nbformat_minor": 2
}
