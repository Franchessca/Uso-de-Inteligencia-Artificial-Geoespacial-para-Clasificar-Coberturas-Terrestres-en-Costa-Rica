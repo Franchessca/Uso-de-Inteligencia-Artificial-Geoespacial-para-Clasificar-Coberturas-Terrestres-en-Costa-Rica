{
 "cells": [
  {
   "cell_type": "markdown",
   "id": "8bcb1929",
   "metadata": {},
   "source": [
    "# Modelo XGBoost"
   ]
  },
  {
   "cell_type": "code",
   "execution_count": 1,
   "id": "a2f1364f",
   "metadata": {},
   "outputs": [],
   "source": [
    "import time\n",
    "import numpy as np\n",
    "import pandas as pd\n",
    "from sklearn.model_selection import train_test_split\n",
    "from sklearn.metrics import accuracy_score, f1_score, confusion_matrix, classification_report\n",
    "from xgboost import XGBClassifier\n",
    "import os"
   ]
  },
  {
   "cell_type": "code",
   "execution_count": 2,
   "id": "4803f9c9",
   "metadata": {},
   "outputs": [],
   "source": [
    "ruta_carpeta_actual = os.getcwd()\n",
    "ruta_carpeta_raiz = os.path.dirname(ruta_carpeta_actual)\n",
    "csv_path  = os.path.join(ruta_carpeta_raiz, \"dataset\", \"PuntosMuestra_CR_2023.csv\")\n",
    "df = pd.read_csv(csv_path)"
   ]
  },
  {
   "cell_type": "markdown",
   "id": "89a66eb7",
   "metadata": {},
   "source": [
    "## Limpieza"
   ]
  },
  {
   "cell_type": "code",
   "execution_count": 3,
   "id": "c499c2e8",
   "metadata": {},
   "outputs": [],
   "source": [
    "# Eliminar CATEGORIA = 2\n",
    "df_filtrado = df[df['CATEGORIA'] != 2].copy()\n",
    "\n",
    "# Remapear categorías a consecutivas 0..K-1\n",
    "clases_unicas = sorted(df_filtrado[\"CATEGORIA\"].unique())\n",
    "mapa = {old: new for new, old in enumerate(clases_unicas)}\n",
    "df_filtrado[\"CATEGORIA\"] = df_filtrado[\"CATEGORIA\"].map(mapa)\n",
    "\n",
    "y = df_filtrado[\"CATEGORIA\"]\n",
    "X = df_filtrado.drop(columns=[\"CATEGORIA\", \"lon\", \"lat\", \"year\"])"
   ]
  },
  {
   "cell_type": "markdown",
   "id": "b5dd4227",
   "metadata": {},
   "source": [
    "## Definir modelo XGBoost"
   ]
  },
  {
   "cell_type": "markdown",
   "id": "15a80317",
   "metadata": {},
   "source": [
    "### Division de data test y prueba"
   ]
  },
  {
   "cell_type": "code",
   "execution_count": 4,
   "id": "3967635d",
   "metadata": {},
   "outputs": [],
   "source": [
    "X_train, X_test, y_train, y_test = train_test_split(X, y, test_size=0.3, random_state=42, stratify=y)"
   ]
  },
  {
   "cell_type": "code",
   "execution_count": null,
   "id": "28c82bdb",
   "metadata": {},
   "outputs": [],
   "source": [
    "import matplotlib.pyplot as plt\n",
    "import seaborn as sns\n",
    "from sklearn.metrics import confusion_matrix\n",
    "\n",
    "# --- calcular matriz de confusión con los últimos resultados ---\n",
    "cm = confusion_matrix(y_test, y_pred, labels=np.unique(y))\n",
    "\n",
    "plt.figure(figsize=(6,5))\n",
    "sns.heatmap(cm, annot=True, fmt=\"d\", cmap=\"Blues\",\n",
    "            xticklabels=np.unique(y),\n",
    "            yticklabels=np.unique(y))\n",
    "plt.xlabel(\"Predicción\")\n",
    "plt.ylabel(\"Verdadero\")\n",
    "plt.title(\"Matriz de Confusión - XGBoost\")\n",
    "plt.show()"
   ]
  },
  {
   "cell_type": "markdown",
   "id": "f8d16fc5",
   "metadata": {},
   "source": [
    "### Definir XGBoost utilizado"
   ]
  },
  {
   "cell_type": "code",
   "execution_count": 5,
   "id": "c5b8e535",
   "metadata": {},
   "outputs": [],
   "source": [
    "use_gpu = False  # True si hay CUDA y xgboost con soporte GPU\n",
    "\n",
    "xgb = XGBClassifier(\n",
    "    n_estimators=500,\n",
    "    max_depth=6,\n",
    "    learning_rate=0.05,\n",
    "    subsample=0.8,\n",
    "    colsample_bytree=0.8,\n",
    "    objective=\"multi:softprob\",  # multi-clase\n",
    "    eval_metric=\"mlogloss\",\n",
    "    tree_method=\"gpu_hist\" if use_gpu else \"hist\",\n",
    "    device=\"cuda\" if use_gpu else \"cpu\",\n",
    "    n_jobs=-1,\n",
    "    random_state=42\n",
    ")"
   ]
  },
  {
   "cell_type": "markdown",
   "id": "620bc933",
   "metadata": {},
   "source": [
    "### Entrenamiento"
   ]
  },
  {
   "cell_type": "code",
   "execution_count": 6,
   "id": "9480ad3c",
   "metadata": {},
   "outputs": [
    {
     "name": "stdout",
     "output_type": "stream",
     "text": [
      "⏱ XGBoost – entrenamiento: 2.77s\n",
      "⏱ XGBoost – predicción: 0.023s  (0.00 ms/muestra)\n"
     ]
    }
   ],
   "source": [
    "t0 = time.perf_counter()\n",
    "xgb.fit(\n",
    "    X_train, y_train,\n",
    "    eval_set=[(X_test, y_test)],       # útil para early_stopping\n",
    "    verbose=False\n",
    ")\n",
    "t1 = time.perf_counter()\n",
    "fit_s = t1 - t0\n",
    "print(f\"⏱ XGBoost – entrenamiento: {fit_s:.2f}s\")\n",
    "\n",
    "# TEST\n",
    "t0 = time.perf_counter()\n",
    "y_pred = xgb.predict(X_test)\n",
    "t1 = time.perf_counter()\n",
    "pred_s = t1 - t0\n",
    "print(f\"⏱ XGBoost – predicción: {pred_s:.3f}s  ({pred_s/len(y_test)*1000:.2f} ms/muestra)\")\n"
   ]
  },
  {
   "cell_type": "markdown",
   "id": "f5e8319c",
   "metadata": {},
   "source": [
    "## Metricas"
   ]
  },
  {
   "cell_type": "code",
   "execution_count": 7,
   "id": "8972e87a",
   "metadata": {},
   "outputs": [
    {
     "name": "stdout",
     "output_type": "stream",
     "text": [
      "OA: 0.887\n",
      "F1 macro: 0.829\n",
      "Etiquetas (orden en matriz): [0, 1, 2, 3, 4, 5]\n",
      "Matriz de confusión:\n",
      " [[2229  216    0    4    2    8]\n",
      " [ 174 4266    0    7   16  105]\n",
      " [   8    1  317   10    0    0]\n",
      " [   4   13   10  276   22   29]\n",
      " [  21   52    0   11  276   52]\n",
      " [  26  139    0   20   39  407]]\n",
      "\n",
      "Reporte por clase:\n",
      "               precision    recall  f1-score   support\n",
      "\n",
      "           0      0.905     0.906     0.906      2459\n",
      "           1      0.910     0.934     0.922      4568\n",
      "           2      0.969     0.943     0.956       336\n",
      "           3      0.841     0.780     0.809       354\n",
      "           4      0.777     0.670     0.720       412\n",
      "           5      0.677     0.645     0.661       631\n",
      "\n",
      "    accuracy                          0.887      8760\n",
      "   macro avg      0.847     0.813     0.829      8760\n",
      "weighted avg      0.885     0.887     0.886      8760\n",
      "\n"
     ]
    }
   ],
   "source": [
    "oa  = accuracy_score(y_test, y_pred)\n",
    "f1m = f1_score(y_test, y_pred, average=\"macro\")\n",
    "cm  = confusion_matrix(y_test, y_pred, labels=np.sort(y.unique()))\n",
    "\n",
    "print(f\"OA: {oa:.3f}\")\n",
    "print(f\"F1 macro: {f1m:.3f}\")\n",
    "print(\"Etiquetas (orden en matriz):\", np.sort(y.unique()).tolist())\n",
    "print(\"Matriz de confusión:\\n\", cm)\n",
    "print(\"\\nReporte por clase:\\n\", classification_report(y_test, y_pred, digits=3))"
   ]
  },
  {
   "cell_type": "markdown",
   "id": "30cf85c3",
   "metadata": {},
   "source": [
    "# Registrar informacion"
   ]
  },
  {
   "cell_type": "code",
   "execution_count": 8,
   "id": "7e142995",
   "metadata": {},
   "outputs": [
    {
     "name": "stderr",
     "output_type": "stream",
     "text": [
      "c:\\Users\\Fran\\anaconda3\\envs\\tintoenv\\Lib\\site-packages\\tqdm\\auto.py:21: TqdmWarning: IProgress not found. Please update jupyter and ipywidgets. See https://ipywidgets.readthedocs.io/en/stable/user_install.html\n",
      "  from .autonotebook import tqdm as notebook_tqdm\n"
     ]
    }
   ],
   "source": [
    "import sys\n",
    "sys.path.append(\"..\")\n",
    "import importlib, utils_log\n",
    "importlib.reload(utils_log)\n",
    "from utils_log import log_row\n",
    "\n",
    "carpeta_actual = ruta_carpeta_actual.split(\"\\\\\")[-1]\n",
    "dataset_utilizado = csv_path.split(\"\\\\\")[-1]\n",
    "\n",
    "log_row(\n",
    "  script=\"20250901_PruebasEntrenamientoXGB.ipynb\",\n",
    "  algoritmo=\"XGBoost\",\n",
    "  dataset=dataset_utilizado,\n",
    "  clases_removidas=[2],\n",
    "  seed=42,\n",
    "  n_train=len(y_train), n_test=len(y_test),\n",
    "  n_features=X.shape[1], num_classes=len(sorted(y.unique())),\n",
    "  fit_seconds=fit_s,\n",
    "  pred_seconds=pred_s,\n",
    "  ms_per_sample=(pred_s/len(y_test))*1000,\n",
    "  OA=oa, F1_macro=f1m,\n",
    "  carpeta=carpeta_actual\n",
    ")"
   ]
  }
 ],
 "metadata": {
  "kernelspec": {
   "display_name": "tintoenv",
   "language": "python",
   "name": "python3"
  },
  "language_info": {
   "codemirror_mode": {
    "name": "ipython",
    "version": 3
   },
   "file_extension": ".py",
   "mimetype": "text/x-python",
   "name": "python",
   "nbconvert_exporter": "python",
   "pygments_lexer": "ipython3",
   "version": "3.11.13"
  }
 },
 "nbformat": 4,
 "nbformat_minor": 5
}
