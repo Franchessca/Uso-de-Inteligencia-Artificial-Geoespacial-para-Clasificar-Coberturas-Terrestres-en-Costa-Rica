{
 "cells": [
  {
   "cell_type": "markdown",
   "metadata": {},
   "source": [
    "# Modelo DNN"
   ]
  },
  {
   "cell_type": "code",
   "execution_count": 1,
   "metadata": {},
   "outputs": [],
   "source": [
    "import pandas as pd\n",
    "import numpy as np\n",
    "import torch, time\n",
    "from torch.utils.data import DataLoader, TensorDataset\n",
    "from torchvision import datasets, transforms\n",
    "import torch.nn as nn\n",
    "from sklearn.model_selection import train_test_split\n",
    "from sklearn.preprocessing import StandardScaler\n",
    "from sklearn.metrics import confusion_matrix, accuracy_score, f1_score\n",
    "from sklearn import metrics\n",
    "import os"
   ]
  },
  {
   "cell_type": "code",
   "execution_count": 2,
   "metadata": {},
   "outputs": [],
   "source": [
    "# Carga dataset desde la carpeta raíz generada por TINTOlib\n",
    "ruta_carpeta_actual = os.getcwd()\n",
    "ruta_carpeta_raiz = os.path.dirname(ruta_carpeta_actual)\n",
    "csv_path  = os.path.join(ruta_carpeta_raiz, \"dataset\", \"PuntosMuestra_CR_2023.csv\")\n",
    "df = pd.read_csv(csv_path)"
   ]
  },
  {
   "cell_type": "markdown",
   "metadata": {},
   "source": [
    "## Limpieza"
   ]
  },
  {
   "cell_type": "code",
   "execution_count": 3,
   "metadata": {},
   "outputs": [],
   "source": [
    "# Quitar valores de la CATEGORIA = 2\n",
    "df_filtrado = df[df[\"CATEGORIA\"] != 2].copy()\n",
    "\n",
    "# Re-mapear las clases a valores consecutivos desde 0\n",
    "clases_unicas = sorted(df_filtrado[\"CATEGORIA\"].unique())\n",
    "mapa = {old: new for new, old in enumerate(clases_unicas)}\n",
    "df_filtrado[\"CATEGORIA\"] = df_filtrado[\"CATEGORIA\"].map(mapa)\n",
    "\n",
    "y = df_filtrado[\"CATEGORIA\"]\n",
    "X = df_filtrado.drop(columns=[\"CATEGORIA\",\"lon\",\"lat\",\"year\"])"
   ]
  },
  {
   "cell_type": "markdown",
   "metadata": {},
   "source": [
    "## Preprocesamiento"
   ]
  },
  {
   "cell_type": "code",
   "execution_count": 4,
   "metadata": {},
   "outputs": [],
   "source": [
    "# Estandarizar características (mejora el entrenamiento de redes)\n",
    "scaler = StandardScaler()\n",
    "X_scaled = scaler.fit_transform(X)"
   ]
  },
  {
   "cell_type": "markdown",
   "metadata": {},
   "source": [
    "## Data de entrenamiento y prueba"
   ]
  },
  {
   "cell_type": "code",
   "execution_count": 5,
   "metadata": {},
   "outputs": [],
   "source": [
    "# --------------------------\n",
    "# 2. Split train/test\n",
    "# --------------------------\n",
    "X_train, X_test, y_train, y_test = train_test_split(\n",
    "    X_scaled, y, test_size=0.3, random_state=42, stratify=y\n",
    ")\n",
    "\n",
    "# Convertir a tensores\n",
    "X_train_t = torch.tensor(X_train, dtype=torch.float32)\n",
    "y_train_t = torch.tensor(y_train.values, dtype=torch.long)\n",
    "X_test_t  = torch.tensor(X_test, dtype=torch.float32)\n",
    "y_test_t  = torch.tensor(y_test.values, dtype=torch.long)\n",
    "\n",
    "train_ds = TensorDataset(X_train_t, y_train_t)\n",
    "test_ds  = TensorDataset(X_test_t, y_test_t)\n",
    "\n",
    "train_dl = DataLoader(train_ds, batch_size=64, shuffle=True)\n",
    "test_dl  = DataLoader(test_ds, batch_size=128)"
   ]
  },
  {
   "cell_type": "markdown",
   "metadata": {},
   "source": [
    "## Definir modelo entrenamiento"
   ]
  },
  {
   "cell_type": "code",
   "execution_count": 6,
   "metadata": {},
   "outputs": [],
   "source": [
    "# --------------------------\n",
    "# 3. Definir modelo MLP\n",
    "# --------------------------\n",
    "input_dim = X_train.shape[1]\n",
    "num_classes = len(y.unique())\n",
    "\n",
    "class MLP(nn.Module):\n",
    "    def __init__(self, input_dim, num_classes):\n",
    "        super().__init__()\n",
    "        self.net = nn.Sequential(\n",
    "            nn.Linear(input_dim, 64),\n",
    "            nn.ReLU(),\n",
    "            nn.Linear(64, 32),\n",
    "            nn.ReLU(),\n",
    "            nn.Linear(32, num_classes)\n",
    "        )\n",
    "    def forward(self, x):\n",
    "        return self.net(x)\n",
    "\n",
    "device = torch.device(\"cuda\" if torch.cuda.is_available() else \"cpu\")\n",
    "model = MLP(input_dim, num_classes).to(device)\n",
    "\n",
    "crit = nn.CrossEntropyLoss()\n",
    "opt  = torch.optim.Adam(model.parameters(), lr=1e-3)"
   ]
  },
  {
   "cell_type": "markdown",
   "metadata": {},
   "source": [
    "## Entrenamiento y testeo"
   ]
  },
  {
   "cell_type": "code",
   "execution_count": 7,
   "metadata": {},
   "outputs": [
    {
     "name": "stdout",
     "output_type": "stream",
     "text": [
      "⏱ Entrenamiento (20 ep): 6.39s\n",
      "⏱ Test: 0.040s  (0.00 ms/muestra)\n"
     ]
    }
   ],
   "source": [
    "# 4. Entrenamiento\n",
    "epochs = 20\n",
    "t0 = time.perf_counter()\n",
    "for ep in range(epochs):\n",
    "    model.train()\n",
    "    for xb, yb in train_dl:\n",
    "        xb, yb = xb.to(device), yb.to(device)\n",
    "        opt.zero_grad()\n",
    "        loss = crit(model(xb), yb)\n",
    "        loss.backward()\n",
    "        opt.step()\n",
    "fit_s = time.perf_counter() - t0\n",
    "print(f\"⏱ Entrenamiento ({epochs} ep): {fit_s:.2f}s\")\n",
    "\n",
    "# 5. Test\n",
    "t0 = time.perf_counter()\n",
    "model.eval()\n",
    "y_true, y_pred = [], []\n",
    "with torch.no_grad():\n",
    "    for xb, yb in test_dl:\n",
    "        xb = xb.to(device)\n",
    "        preds = model(xb).argmax(1).cpu().tolist()\n",
    "        y_pred += preds\n",
    "        y_true += yb.tolist()\n",
    "pred_s = time.perf_counter() - t0\n",
    "ms_per_sample = (pred_s/len(y_true))*1000\n",
    "print(f\"⏱ Test: {pred_s:.3f}s  ({ms_per_sample:.2f} ms/muestra)\")"
   ]
  },
  {
   "cell_type": "markdown",
   "metadata": {},
   "source": [
    "## Resultados"
   ]
  },
  {
   "cell_type": "code",
   "execution_count": 8,
   "metadata": {},
   "outputs": [
    {
     "name": "stdout",
     "output_type": "stream",
     "text": [
      "OA=0.8737 | F1-macro=0.7945\n",
      "Matriz de confusión:\n",
      " [[2236  205    0    2    5   11]\n",
      " [ 218 4207    4    6   12  121]\n",
      " [  10    1  312   13    0    0]\n",
      " [   5    9    1  268   14   57]\n",
      " [  23   43    0   24  184  138]\n",
      " [  23  130    0   17   14  447]]\n"
     ]
    }
   ],
   "source": [
    "oa  = accuracy_score(y_true, y_pred)\n",
    "f1m = f1_score(y_true, y_pred, average=\"macro\")\n",
    "cm  = confusion_matrix(y_true, y_pred)\n",
    "\n",
    "print(f\"OA={oa:.4f} | F1-macro={f1m:.4f}\")\n",
    "print(\"Matriz de confusión:\\n\", cm)"
   ]
  },
  {
   "cell_type": "markdown",
   "metadata": {},
   "source": [
    "# Registrar informacion"
   ]
  },
  {
   "cell_type": "code",
   "execution_count": 9,
   "metadata": {},
   "outputs": [
    {
     "name": "stderr",
     "output_type": "stream",
     "text": [
      "c:\\Users\\Fran\\anaconda3\\envs\\tintoenv\\Lib\\site-packages\\tqdm\\auto.py:21: TqdmWarning: IProgress not found. Please update jupyter and ipywidgets. See https://ipywidgets.readthedocs.io/en/stable/user_install.html\n",
      "  from .autonotebook import tqdm as notebook_tqdm\n"
     ]
    }
   ],
   "source": [
    "import sys\n",
    "sys.path.append(\"..\")\n",
    "import importlib, utils_log\n",
    "importlib.reload(utils_log)\n",
    "from utils_log import log_row\n",
    "\n",
    "carpeta_actual = ruta_carpeta_actual.split(\"\\\\\")[-1]\n",
    "dataset_utilizado = csv_path.split(\"\\\\\")[-1]\n",
    "\n",
    "log_row(\n",
    "  script=\"20250901_PruebasEntrenamientoDNN.ipynb\",\n",
    "  algoritmo=\"DNN_MLP\",\n",
    "  dataset=dataset_utilizado,\n",
    "  clases_removidas=[2],\n",
    "  seed=42,\n",
    "  n_train=len(y_true), n_test=len(y_pred),\n",
    "  n_features=X.shape[1], num_classes=len(sorted(y.unique())),\n",
    "  fit_seconds=fit_s, pred_seconds=pred_s,\n",
    "  ms_per_sample=(pred_s/len(y_pred))*1000,\n",
    "  OA=oa, F1_macro=f1m,\n",
    "  carpeta=carpeta_actual\n",
    ")"
   ]
  }
 ],
 "metadata": {
  "kernelspec": {
   "display_name": "tintoenv",
   "language": "python",
   "name": "python3"
  },
  "language_info": {
   "codemirror_mode": {
    "name": "ipython",
    "version": 3
   },
   "file_extension": ".py",
   "mimetype": "text/x-python",
   "name": "python",
   "nbconvert_exporter": "python",
   "pygments_lexer": "ipython3",
   "version": "3.11.13"
  },
  "orig_nbformat": 4
 },
 "nbformat": 4,
 "nbformat_minor": 2
}
