{
 "cells": [
  {
   "cell_type": "markdown",
   "metadata": {},
   "source": [
    "# Utilizar TintoLib"
   ]
  },
  {
   "cell_type": "code",
   "execution_count": 1,
   "metadata": {},
   "outputs": [],
   "source": [
    "import pandas as pd\n",
    "import os"
   ]
  },
  {
   "cell_type": "markdown",
   "metadata": {},
   "source": [
    "## Definir rutas"
   ]
  },
  {
   "cell_type": "code",
   "execution_count": 2,
   "metadata": {},
   "outputs": [],
   "source": [
    "ruta_carpeta_actual = os.getcwd()\n",
    "ruta_carpeta_raiz = os.path.dirname(ruta_carpeta_actual)\n",
    "csv_path  = os.path.join(ruta_carpeta_raiz, \"dataset\", \"PuntosMuestra_CR_2023.csv\")\n",
    "df = pd.read_csv(csv_path)"
   ]
  },
  {
   "cell_type": "markdown",
   "metadata": {},
   "source": [
    "## Limpiar data"
   ]
  },
  {
   "cell_type": "code",
   "execution_count": 3,
   "metadata": {},
   "outputs": [],
   "source": [
    "# Mover CATEGORIA al final\n",
    "cols = [c for c in df.columns if c != \"CATEGORIA\"] + [\"CATEGORIA\"]\n",
    "df = df[cols]\n",
    "\n",
    "# Quitar columnas no predictoras (lon/lat/year) si no las quieres en la imagen\n",
    "drop_cols = [\"lon\", \"lat\", \"year\"]\n",
    "df = df[[c for c in df.columns if c not in drop_cols or c == \"CATEGORIA\"]]"
   ]
  },
  {
   "cell_type": "code",
   "execution_count": 4,
   "metadata": {},
   "outputs": [
    {
     "name": "stdout",
     "output_type": "stream",
     "text": [
      "['B2', 'B3', 'B4', 'B8', 'B11', 'NDVI', 'EVI2', 'GCVI', 'MNDWI', 'NDMI', 'SR', 'R35', 'R54', 'CATEGORIA']\n"
     ]
    }
   ],
   "source": [
    "df.to_csv(\"PuntosMuestra_CR_tinto.csv\", index=False)\n",
    "print(df.columns.tolist())"
   ]
  },
  {
   "cell_type": "markdown",
   "metadata": {},
   "source": [
    "## Generar imagenes sinteticas"
   ]
  },
  {
   "cell_type": "code",
   "execution_count": 5,
   "metadata": {},
   "outputs": [
    {
     "name": "stdout",
     "output_type": "stream",
     "text": [
      "Instancias procesadas: 29201\n",
      "Tiempo total: 37.38 s (0.62 min)\n",
      "Tiempo promedio por instancia: 1.3 ms/instancia\n"
     ]
    }
   ],
   "source": [
    "from TINTOlib.tinto import TINTO  # clase principal\n",
    "import time\n",
    "\n",
    "# df ya lo tenías preparado arriba con las bandas + 'CATEGORIA'\n",
    "out_dir = \"PuntosMuestra_CR_tinto_synthetic_images\"\n",
    "n_rows = len(df)\n",
    "\n",
    "model = TINTO(problem=\"supervised\", blur=True)\n",
    "\n",
    "t0 = time.perf_counter()\n",
    "model.fit_transform(df, folder=out_dir)   # <--- aquí usas df directamente\n",
    "t1 = time.perf_counter()\n",
    "\n",
    "total_s = t1 - t0\n",
    "ms_per  = (total_s / n_rows) * 1000.0\n",
    "\n",
    "print(f\"Instancias procesadas: {n_rows}\")\n",
    "print(f\"Tiempo total: {total_s:.2f} s ({total_s/60:.2f} min)\")\n",
    "print(f\"Tiempo promedio por instancia: {ms_per:.1f} ms/instancia\")"
   ]
  },
  {
   "cell_type": "markdown",
   "metadata": {},
   "source": [
    "# Registrar informacion"
   ]
  },
  {
   "cell_type": "code",
   "execution_count": 6,
   "metadata": {},
   "outputs": [
    {
     "name": "stderr",
     "output_type": "stream",
     "text": [
      "C:\\Users\\Francessca\\anaconda3\\envs\\tintoenv\\Lib\\site-packages\\tqdm\\auto.py:21: TqdmWarning: IProgress not found. Please update jupyter and ipywidgets. See https://ipywidgets.readthedocs.io/en/stable/user_install.html\n",
      "  from .autonotebook import tqdm as notebook_tqdm\n"
     ]
    }
   ],
   "source": [
    "import sys\n",
    "sys.path.append(\"..\")\n",
    "import importlib, utils_log\n",
    "importlib.reload(utils_log)\n",
    "from utils_log import log_row\n",
    "\n",
    "carpeta_actual = ruta_carpeta_actual.split(\"\\\\\")[-1]\n",
    "dataset_utilizado = csv_path.split(\"\\\\\")[-1]\n",
    "\n",
    "log_row(\n",
    "  script=\"20250901_ConversionTINTO.ipynb\",\n",
    "  algoritmo=\"TINTO_PCA\",\n",
    "  dataset=\"PuntosMuestra_CR_tinto.csv\",\n",
    "  clases_removidas=[], seed=1,\n",
    "  n_train=None, n_test=None,\n",
    "  n_features=df.shape[1]-1, num_classes=df[\"CATEGORIA\"].nunique(),\n",
    "  params={\"pixels\":30,\"algorithm\":\"PCA\",\"blur\":True},\n",
    "  fit_seconds=total_s, pred_seconds=0,\n",
    "  ms_per_sample=(total_s/len(df))*1000,\n",
    "  carpeta=carpeta_actual\n",
    ")"
   ]
  }
 ],
 "metadata": {
  "kernelspec": {
   "display_name": "Python 3",
   "language": "python",
   "name": "python3"
  },
  "language_info": {
   "codemirror_mode": {
    "name": "ipython",
    "version": 3
   },
   "file_extension": ".py",
   "mimetype": "text/x-python",
   "name": "python",
   "nbconvert_exporter": "python",
   "pygments_lexer": "ipython3",
   "version": "3.11.13"
  },
  "orig_nbformat": 4
 },
 "nbformat": 4,
 "nbformat_minor": 2
}
