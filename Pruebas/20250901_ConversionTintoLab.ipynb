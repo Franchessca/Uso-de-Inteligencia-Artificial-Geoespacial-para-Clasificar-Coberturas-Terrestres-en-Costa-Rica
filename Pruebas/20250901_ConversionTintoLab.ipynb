{
 "cells": [
  {
   "cell_type": "markdown",
   "metadata": {},
   "source": [
    "# Utilizar TintoLib"
   ]
  },
  {
   "cell_type": "code",
   "execution_count": null,
   "metadata": {},
   "outputs": [],
   "source": [
    "import pandas as pd\n",
    "import os"
   ]
  },
  {
   "cell_type": "markdown",
   "metadata": {},
   "source": [
    "## Definir rutas"
   ]
  },
  {
   "cell_type": "code",
   "execution_count": null,
   "metadata": {},
   "outputs": [],
   "source": [
    "ruta_carpeta_actual = os.getcwd()\n",
    "ruta_carpeta_raiz = os.path.dirname(ruta_carpeta_actual)\n",
    "csv_path  = os.path.join(ruta_carpeta_raiz, \"dataset\", \"PuntosMuestra_CR_2023.csv\")\n",
    "df = pd.read_csv(csv_path)"
   ]
  },
  {
   "cell_type": "markdown",
   "metadata": {},
   "source": [
    "## Limpiar data"
   ]
  },
  {
   "cell_type": "code",
   "execution_count": null,
   "metadata": {},
   "outputs": [],
   "source": [
    "# Mover CATEGORIA al final\n",
    "cols = [c for c in df.columns if c != \"CATEGORIA\"] + [\"CATEGORIA\"]\n",
    "df = df[cols]\n",
    "\n",
    "# Quitar columnas no predictoras (lon/lat/year) si no las quieres en la imagen\n",
    "drop_cols = [\"lon\", \"lat\", \"year\"]\n",
    "df = df[[c for c in df.columns if c not in drop_cols or c == \"CATEGORIA\"]]"
   ]
  },
  {
   "cell_type": "code",
   "execution_count": null,
   "metadata": {},
   "outputs": [],
   "source": [
    "df.to_csv(\"PuntosMuestra_CR_tinto.csv\", index=False)\n",
    "print(df.columns.tolist())"
   ]
  },
  {
   "cell_type": "markdown",
   "metadata": {},
   "source": [
    "## Generar imagenes sinteticas"
   ]
  },
  {
   "cell_type": "code",
   "execution_count": 1,
   "metadata": {},
   "outputs": [
    {
     "ename": "ModuleNotFoundError",
     "evalue": "No module named 'TINTOlib'",
     "output_type": "error",
     "traceback": [
      "\u001b[31m---------------------------------------------------------------------------\u001b[39m",
      "\u001b[31mModuleNotFoundError\u001b[39m                       Traceback (most recent call last)",
      "\u001b[36mCell\u001b[39m\u001b[36m \u001b[39m\u001b[32mIn[1]\u001b[39m\u001b[32m, line 1\u001b[39m\n\u001b[32m----> \u001b[39m\u001b[32m1\u001b[39m \u001b[38;5;28;01mfrom\u001b[39;00m\u001b[38;5;250m \u001b[39m\u001b[34;01mTINTOlib\u001b[39;00m\u001b[34;01m.\u001b[39;00m\u001b[34;01mtinto\u001b[39;00m\u001b[38;5;250m \u001b[39m\u001b[38;5;28;01mimport\u001b[39;00m TINTO  \u001b[38;5;66;03m# clase principal\u001b[39;00m\n\u001b[32m      2\u001b[39m \u001b[38;5;28;01mimport\u001b[39;00m\u001b[38;5;250m \u001b[39m\u001b[34;01mtime\u001b[39;00m\n\u001b[32m      4\u001b[39m \u001b[38;5;66;03m# df ya lo tenías preparado arriba con las bandas + 'CATEGORIA'\u001b[39;00m\n",
      "\u001b[31mModuleNotFoundError\u001b[39m: No module named 'TINTOlib'"
     ]
    }
   ],
   "source": [
    "from TINTOlib.tinto import TINTO  # clase principal\n",
    "import time\n",
    "\n",
    "# df ya lo tenías preparado arriba con las bandas + 'CATEGORIA'\n",
    "out_dir = \"PuntosMuestra_CR_tinto_synthetic_images\"\n",
    "n_rows = len(df)\n",
    "\n",
    "model = TINTO(problem=\"supervised\", blur=True)\n",
    "\n",
    "t0 = time.perf_counter()\n",
    "model.fit_transform(df, folder=out_dir)   # <--- aquí usas df directamente\n",
    "t1 = time.perf_counter()\n",
    "\n",
    "total_s = t1 - t0\n",
    "ms_per  = (total_s / n_rows) * 1000.0\n",
    "\n",
    "print(f\"Instancias procesadas: {n_rows}\")\n",
    "print(f\"Tiempo total: {total_s:.2f} s ({total_s/60:.2f} min)\")\n",
    "print(f\"Tiempo promedio por instancia: {ms_per:.1f} ms/instancia\")"
   ]
  },
  {
   "cell_type": "markdown",
   "metadata": {},
   "source": [
    "# Registrar informacion"
   ]
  },
  {
   "cell_type": "code",
   "execution_count": null,
   "metadata": {},
   "outputs": [],
   "source": [
    "import sys\n",
    "sys.path.append(\"..\")\n",
    "import importlib, utils_log\n",
    "importlib.reload(utils_log)\n",
    "from utils_log import log_row\n",
    "\n",
    "carpeta_actual = ruta_carpeta_actual.split(\"\\\\\")[-1]\n",
    "dataset_utilizado = csv_path.split(\"\\\\\")[-1]\n",
    "\n",
    "log_row(\n",
    "  script=\"20250901_ConversionTINTO.ipynb\",\n",
    "  algoritmo=\"TINTO_PCA\",\n",
    "  dataset=\"PuntosMuestra_CR_tinto.csv\",\n",
    "  clases_removidas=[], seed=1,\n",
    "  n_train=None, n_test=None,\n",
    "  n_features=df.shape[1]-1, num_classes=df[\"CATEGORIA\"].nunique(),\n",
    "  params={\"pixels\":30,\"algorithm\":\"PCA\",\"blur\":True},\n",
    "  fit_seconds=total_s, pred_seconds=0,\n",
    "  ms_per_sample=(total_s/len(df))*1000,\n",
    "  carpeta=carpeta_actual\n",
    ")"
   ]
  }
 ],
 "metadata": {
  "kernelspec": {
   "display_name": "Python 3",
   "language": "python",
   "name": "python3"
  },
  "language_info": {
   "codemirror_mode": {
    "name": "ipython",
    "version": 3
   },
   "file_extension": ".py",
   "mimetype": "text/x-python",
   "name": "python",
   "nbconvert_exporter": "python",
   "pygments_lexer": "ipython3",
   "version": "3.11.13"
  },
  "orig_nbformat": 4
 },
 "nbformat": 4,
 "nbformat_minor": 2
}
