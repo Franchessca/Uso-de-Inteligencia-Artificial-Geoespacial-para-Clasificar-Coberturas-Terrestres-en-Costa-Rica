{
  "cells": [
    {
      "cell_type": "markdown",
      "metadata": {
        "id": "Bw1-Dx3xIPG_"
      },
      "source": [
        "# **Modelo TabTransformer**\n",
        "con Pesos por clase"
      ]
    },
    {
      "cell_type": "code",
      "execution_count": null,
      "metadata": {},
      "outputs": [
        {
          "ename": "NameError",
          "evalue": "name 'os' is not defined",
          "output_type": "error",
          "traceback": [
            "\u001b[31m---------------------------------------------------------------------------\u001b[39m",
            "\u001b[31mNameError\u001b[39m                                 Traceback (most recent call last)",
            "\u001b[36mCell\u001b[39m\u001b[36m \u001b[39m\u001b[32mIn[1]\u001b[39m\u001b[32m, line 1\u001b[39m\n\u001b[32m----> \u001b[39m\u001b[32m1\u001b[39m \u001b[43mos\u001b[49m.environ[\u001b[33m\"\u001b[39m\u001b[33mPYTORCH_LIGHTNING_DISABLE_PROGRESS_BAR\u001b[39m\u001b[33m\"\u001b[39m] = \u001b[33m\"\u001b[39m\u001b[33m1\u001b[39m\u001b[33m\"\u001b[39m  \u001b[38;5;66;03m# apaga barra de progreso\u001b[39;00m\n\u001b[32m      2\u001b[39m os.environ[\u001b[33m\"\u001b[39m\u001b[33mLIGHTNING_LAUNCHER\u001b[39m\u001b[33m\"\u001b[39m] = \u001b[33m\"\u001b[39m\u001b[33mnone\u001b[39m\u001b[33m\"\u001b[39m                   \u001b[38;5;66;03m# evita lanzador distribuido\u001b[39;00m\n\u001b[32m      3\u001b[39m os.environ[\u001b[33m\"\u001b[39m\u001b[33mWORLD_SIZE\u001b[39m\u001b[33m\"\u001b[39m] = \u001b[33m\"\u001b[39m\u001b[33m1\u001b[39m\u001b[33m\"\u001b[39m                              \u001b[38;5;66;03m# fuerza 1 proceso\u001b[39;00m\n",
            "\u001b[31mNameError\u001b[39m: name 'os' is not defined"
          ]
        }
      ],
      "source": [
        "import os\n",
        "os.environ[\"PYTORCH_LIGHTNING_DISABLE_PROGRESS_BAR\"] = \"1\"  # apaga barra de progreso\n",
        "os.environ[\"LIGHTNING_LAUNCHER\"] = \"none\"                   # evita lanzador distribuido\n",
        "os.environ[\"WORLD_SIZE\"] = \"1\"                              # fuerza 1 proceso\n",
        "os.environ[\"PL_TORCH_DISTRIBUTED_BACKEND\"] = \"\"             # sin backend distribuido\n",
        "os.environ[\"CUDA_VISIBLE_DEVICES\"] = \"\"                     # CPU si no tienes CUDA\n"
      ]
    },
    {
      "cell_type": "code",
      "execution_count": null,
      "metadata": {
        "id": "GOGx3wfHfS6M"
      },
      "outputs": [],
      "source": [
        "import time\n",
        "import numpy as np\n",
        "import pandas as pd\n",
        "import torch\n",
        "import random\n",
        "\n",
        "from sklearn.model_selection import train_test_split\n",
        "from sklearn.preprocessing import StandardScaler\n",
        "from sklearn.metrics import accuracy_score, f1_score, confusion_matrix, classification_report, ConfusionMatrixDisplay\n",
        "\n",
        "from pytorch_tabular import TabularModel\n",
        "from pytorch_tabular.config import DataConfig, OptimizerConfig, TrainerConfig\n",
        "from pytorch_tabular.models.tab_transformer.config import TabTransformerConfig\n",
        "from pytorch_lightning import seed_everything\n",
        "\n",
        "import matplotlib.pyplot as plt"
      ]
    },
    {
      "cell_type": "code",
      "execution_count": null,
      "metadata": {
        "colab": {
          "base_uri": "https://localhost:8080/",
          "height": 1000
        },
        "id": "T99NnHdtdSIW",
        "outputId": "36f02287-a8c6-4aeb-e30e-19847d5db4c7"
      },
      "outputs": [],
      "source": [
        "# ---------- 1) Cargar y preparar (igual a tu TabNet) ----------\n",
        "ruta_carpeta_actual = os.getcwd()\n",
        "ruta_carpeta_raiz   = os.path.dirname(ruta_carpeta_actual)\n",
        "csv_path  = os.path.join(ruta_carpeta_raiz, \"dataset\", \"PuntosMuestra_CR_2023.csv\")\n",
        "df = pd.read_csv(csv_path)\n",
        "\n",
        "# quitar categoría 2 y columnas no predictoras\n",
        "df = df[df[\"CATEGORIA\"] != 2].copy()\n",
        "df = df.drop(columns=[\"lon\",\"lat\",\"year\"], errors=\"ignore\")\n",
        "\n",
        "# reindexar clases a 0..K-1\n",
        "clases_ordenadas = sorted(df[\"CATEGORIA\"].unique())\n",
        "mapa = {old:new for new,old in enumerate(clases_ordenadas)}\n",
        "df[\"CATEGORIA\"] = df[\"CATEGORIA\"].map(mapa)\n",
        "\n",
        "# separar X, y\n",
        "feat_cols = [c for c in df.columns if c!=\"CATEGORIA\"]\n",
        "X = df[feat_cols].values\n",
        "y = df[\"CATEGORIA\"].values\n",
        "\n",
        "# split 70/30 y luego train/val (80/20 del train)\n",
        "X_train, X_test, y_train, y_test = train_test_split(\n",
        "    X, y, test_size=0.30, stratify=y, random_state=42\n",
        ")\n",
        "scaler = StandardScaler()\n",
        "X_train = scaler.fit_transform(X_train)\n",
        "X_test  = scaler.transform(X_test)\n",
        "\n",
        "X_tr, X_val, y_tr, y_val = train_test_split(\n",
        "    X_train, y_train, test_size=0.20, stratify=y_train, random_state=42\n",
        ")\n",
        "\n",
        "# convertir a DataFrame con la misma estructura que espera TabularModel\n",
        "train_df = pd.DataFrame(X_tr, columns=feat_cols); train_df[\"CATEGORIA\"] = y_tr\n",
        "valid_df = pd.DataFrame(X_val, columns=feat_cols); valid_df[\"CATEGORIA\"] = y_val\n",
        "test_df  = pd.DataFrame(X_test, columns=feat_cols); test_df[\"CATEGORIA\"]  = y_test\n",
        "\n",
        "num_classes = len(np.unique(y))\n",
        "print(\"Clases (mapeadas):\", clases_ordenadas, \"=>\", list(range(num_classes)))\n",
        "\n",
        "# ---------- 2) Configurar TabTransformer ----------\n",
        "data_config = DataConfig(\n",
        "    target=[\"CATEGORIA\"],\n",
        "    continuous_cols=feat_cols,   # todas continuas aquí\n",
        "    categorical_cols=[],         # si tuvieras categóricas, listarlas aquí\n",
        ")\n",
        "\n",
        "# Métrica interna simple (accuracy). F1 la calculamos al final con sklearn.\n",
        "model_config = TabTransformerConfig(\n",
        "    task=\"classification\",\n",
        "    metrics=[\"accuracy\"],\n",
        ")\n",
        "\n",
        "optimizer_config = OptimizerConfig()\n",
        "\n",
        "# Configuración de entrenador sencilla y robusta (CPU)\n",
        "trainer_config = TrainerConfig(\n",
        "    auto_lr_find=False,\n",
        "    batch_size=256,\n",
        "    max_epochs=1,  # pon 100 como en tu TabNet; para pruebas rápidas usa 10-20\n",
        ")\n",
        "\n",
        "tabular_model = TabularModel(\n",
        "    data_config=data_config,\n",
        "    model_config=model_config,\n",
        "    optimizer_config=optimizer_config,\n",
        "    trainer_config=trainer_config,\n",
        ")\n",
        "\n",
        "# ---------- 3) Entrenar ----------\n",
        "t0 = time.perf_counter()\n",
        "tabular_model.fit(train=train_df, validation=valid_df, callbacks=[])  \n",
        "fit_s = time.perf_counter() - t0\n",
        "\n",
        "# ---------- 4) Evaluar en TEST ----------\n",
        "t0 = time.perf_counter()\n",
        "preds = tabular_model.predict(test_df)\n",
        "pred_s = time.perf_counter() - t0\n",
        "\n",
        "y_true = test_df[\"CATEGORIA\"].to_numpy()\n",
        "y_pred = np.asarray(preds[\"prediction\"])\n",
        "\n",
        "oa  = accuracy_score(y_true, y_pred)\n",
        "f1m = f1_score(y_true, y_pred, average=\"macro\")\n",
        "cm  = confusion_matrix(y_true, y_pred, labels=list(range(num_classes)))\n",
        "\n",
        "print(f\"\\n⏱ Entrenamiento: {fit_s:.2f}s | ⏱ Inferencia: {pred_s:.2f}s ({pred_s/len(y_true)*1000:.2f} ms/muestra)\")\n",
        "print(f\"OA: {oa:.4f} | F1-macro: {f1m:.4f}\")\n",
        "print(\"Matriz de confusión:\\n\", cm)\n",
        "print(\"\\nReporte por clase:\\n\", classification_report(y_true, y_pred, digits=4))"
      ]
    },
    {
      "cell_type": "code",
      "execution_count": null,
      "metadata": {
        "colab": {
          "base_uri": "https://localhost:8080/",
          "height": 1000
        },
        "id": "cdXgnO20gqbs",
        "outputId": "d3eb4086-8596-4b44-b233-13bd984c4b46"
      },
      "outputs": [],
      "source": [
        "oa  = accuracy_score(y_true, y_pred)\n",
        "f1m = f1_score(y_true, y_pred, average=\"macro\")\n",
        "cm  = confusion_matrix(y_true, y_pred, labels=list(range(num_classes)))\n",
        "cm_row_percentage = cm.astype('float') / cm.sum(axis=1, keepdims=True) * 100\n",
        "cm_row_percentage = np.nan_to_num(cm_row_percentage)  # handle division by zero\n",
        "\n",
        "print(f\"\\n⏱ Entrenamiento: {fit_s:.2f}s | ⏱ Inferencia: {pred_s:.2f}s ({pred_s/len(y_true)*1000:.2f} ms/muestra)\")\n",
        "print(f\"OA: {oa:.4f} | F1-macro: {f1m:.4f}\")\n",
        "print(\"Matriz de confusión:\\n\", cm)\n",
        "print(\"\\nReporte por clase:\\n\", classification_report(y_true, y_pred, digits=4))"
      ]
    },
    {
      "cell_type": "code",
      "execution_count": null,
      "metadata": {},
      "outputs": [],
      "source": [
        "import matplotlib.pyplot as plt\n",
        "import seaborn as sns\n",
        "from sklearn.metrics import confusion_matrix\n",
        "\n",
        "ConfusionMatrixDisplay(cm).plot(cmap='Blues')\n",
        "plt.title(\"Matriz de confusión - TabTransformer (Test)\")\n",
        "plt.show()\n",
        "\n",
        "ConfusionMatrixDisplay(cm_row_percentage).plot(cmap='Blues')\n",
        "plt.title(\"Matriz de confusión (%) - TabTransformer (Test)\")\n",
        "plt.show()"
      ]
    }
  ],
  "metadata": {
    "colab": {
      "provenance": [],
      "toc_visible": true
    },
    "kernelspec": {
      "display_name": "tintoenv",
      "language": "python",
      "name": "python3"
    },
    "language_info": {
      "codemirror_mode": {
        "name": "ipython",
        "version": 3
      },
      "file_extension": ".py",
      "mimetype": "text/x-python",
      "name": "python",
      "nbconvert_exporter": "python",
      "pygments_lexer": "ipython3",
      "version": "3.11.13"
    }
  },
  "nbformat": 4,
  "nbformat_minor": 0
}
