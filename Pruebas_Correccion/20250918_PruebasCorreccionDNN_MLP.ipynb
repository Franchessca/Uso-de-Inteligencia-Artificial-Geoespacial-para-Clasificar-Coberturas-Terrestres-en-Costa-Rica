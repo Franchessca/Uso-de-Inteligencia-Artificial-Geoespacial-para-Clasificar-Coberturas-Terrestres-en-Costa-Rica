{
 "cells": [
  {
   "cell_type": "markdown",
   "metadata": {},
   "source": [
    "# Modelo DNN"
   ]
  },
  {
   "cell_type": "code",
   "execution_count": 1,
   "metadata": {},
   "outputs": [],
   "source": [
    "import pandas as pd\n",
    "import numpy as np\n",
    "import torch, time\n",
    "from torch.utils.data import DataLoader, TensorDataset\n",
    "from torchvision import datasets, transforms\n",
    "import torch.nn as nn\n",
    "from sklearn.model_selection import train_test_split\n",
    "from sklearn.preprocessing import StandardScaler\n",
    "from sklearn.metrics import confusion_matrix, accuracy_score, f1_score\n",
    "from sklearn import metrics\n",
    "import os"
   ]
  },
  {
   "cell_type": "code",
   "execution_count": null,
   "metadata": {},
   "outputs": [],
   "source": [
    "from utils_eval import evaluar_modelo\n",
    "\n",
    "# --- Cargar CSV ---\n",
    "df = pd.read_csv(\"../dataset/PuntosMuestra_CR_2023.csv\")\n",
    "df = df[df[\"CATEGORIA\"] != 2].copy()\n",
    "mapa = {old: new for new, old in enumerate(sorted(df[\"CATEGORIA\"].unique()))}\n",
    "df[\"CATEGORIA\"] = df[\"CATEGORIA\"].map(mapa)\n",
    "\n",
    "y = df[\"CATEGORIA\"].values\n",
    "X = df.drop(columns=[\"CATEGORIA\",\"lon\",\"lat\",\"year\"]).values\n",
    "X = StandardScaler().fit_transform(X)\n",
    "\n",
    "# --- MLP Tabular ---\n",
    "evaluar_modelo(\"MLP_tabular\", None, X, y, es_mlp=True, epochs=20)\n"
   ]
  }
 ],
 "metadata": {
  "kernelspec": {
   "display_name": "tintoenv",
   "language": "python",
   "name": "python3"
  },
  "language_info": {
   "codemirror_mode": {
    "name": "ipython",
    "version": 3
   },
   "file_extension": ".py",
   "mimetype": "text/x-python",
   "name": "python",
   "nbconvert_exporter": "python",
   "pygments_lexer": "ipython3",
   "version": "3.11.13"
  },
  "orig_nbformat": 4
 },
 "nbformat": 4,
 "nbformat_minor": 2
}
