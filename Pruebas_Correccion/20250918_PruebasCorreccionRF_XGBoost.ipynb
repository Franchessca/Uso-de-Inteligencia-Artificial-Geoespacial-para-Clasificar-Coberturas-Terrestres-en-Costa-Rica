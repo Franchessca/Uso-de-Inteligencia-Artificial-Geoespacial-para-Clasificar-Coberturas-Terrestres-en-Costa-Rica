{
 "cells": [
  {
   "cell_type": "code",
   "execution_count": 1,
   "metadata": {},
   "outputs": [],
   "source": [
    "import pandas as pd\n",
    "import numpy as np\n",
    "import torch, time\n",
    "from torch.utils.data import DataLoader, TensorDataset\n",
    "from torchvision import datasets, transforms\n",
    "import torch.nn as nn\n",
    "from sklearn.model_selection import train_test_split\n",
    "from sklearn.preprocessing import StandardScaler\n",
    "from sklearn.metrics import confusion_matrix, accuracy_score, f1_score\n",
    "from sklearn import metrics\n",
    "import os, csv"
   ]
  },
  {
   "cell_type": "code",
   "execution_count": 2,
   "metadata": {},
   "outputs": [],
   "source": [
    "# --- Ruta del dataset ---\n",
    "ruta_carpeta_actual = os.getcwd()\n",
    "ruta_carpeta_raiz = os.path.dirname(ruta_carpeta_actual)\n",
    "csv_path  = os.path.join(ruta_carpeta_raiz, \"dataset\", \"PuntosMuestra_CR_2023.csv\")\n",
    "\n",
    "# --- Cargar CSV ---\n",
    "df = pd.read_csv(csv_path)\n",
    "df = df[df[\"CATEGORIA\"] != 2].copy()\n",
    "mapa = {old: new for new, old in enumerate(sorted(df[\"CATEGORIA\"].unique()))}\n",
    "df[\"CATEGORIA\"] = df[\"CATEGORIA\"].map(mapa)\n",
    "\n",
    "y = df[\"CATEGORIA\"].values\n",
    "X = df.drop(columns=[\"CATEGORIA\",\"lon\",\"lat\",\"year\"]).values\n",
    "X = StandardScaler().fit_transform(X)"
   ]
  },
  {
   "cell_type": "markdown",
   "metadata": {},
   "source": [
    "# Modelo RF"
   ]
  },
  {
   "cell_type": "code",
   "execution_count": 3,
   "metadata": {},
   "outputs": [
    {
     "name": "stdout",
     "output_type": "stream",
     "text": [
      "[RandomForest] Fold 1: OA=0.881, F1m=0.819, Clase más difícil=5\n",
      "[RandomForest] Fold 2: OA=0.881, F1m=0.809, Clase más difícil=4\n",
      "[RandomForest] Fold 3: OA=0.884, F1m=0.821, Clase más difícil=5\n",
      "[RandomForest] Fold 4: OA=0.884, F1m=0.822, Clase más difícil=5\n",
      "[RandomForest] Fold 5: OA=0.881, F1m=0.815, Clase más difícil=4\n"
     ]
    }
   ],
   "source": [
    "from sklearn.ensemble import RandomForestClassifier\n",
    "from utils_eval import evaluar_modelo\n",
    "\n",
    "# --- RandomForest ---\n",
    "rf = RandomForestClassifier(n_estimators=200, random_state=42, n_jobs=-1)\n",
    "resultados_rf = evaluar_modelo(\"RandomForest\", rf, X, y)\n",
    "\n",
    "# Guardar cada fold en CSV\n",
    "with open(os.path.join(ruta_carpeta_actual, \"resultados_rf.csv\"), \"w\", newline=\"\", encoding=\"utf-8\") as f:\n",
    "    writer = csv.writer(f)\n",
    "    writer.writerow([\"fold\", \"OA\", \"F1_macro\", \"clase_dificil\", \"F1_clases\", \"matriz_confusion\"])\n",
    "    for r in resultados_rf:\n",
    "        writer.writerow([r[\"fold\"], r[\"OA\"], r[\"F1_macro\"], r[\"clase_dificil\"], r[\"F1_clases\"], r[\"matriz_confusion\"].tolist()])"
   ]
  },
  {
   "cell_type": "markdown",
   "metadata": {},
   "source": [
    "## Modelo MLP"
   ]
  },
  {
   "cell_type": "code",
   "execution_count": 4,
   "metadata": {},
   "outputs": [
    {
     "name": "stdout",
     "output_type": "stream",
     "text": [
      "[XGBoost] Fold 1: OA=0.888, F1m=0.832, Clase más difícil=5\n",
      "[XGBoost] Fold 2: OA=0.889, F1m=0.825, Clase más difícil=4\n",
      "[XGBoost] Fold 3: OA=0.892, F1m=0.832, Clase más difícil=5\n",
      "[XGBoost] Fold 4: OA=0.884, F1m=0.823, Clase más difícil=5\n",
      "[XGBoost] Fold 5: OA=0.888, F1m=0.829, Clase más difícil=5\n"
     ]
    }
   ],
   "source": [
    "import xgboost as xgb\n",
    "from utils_eval import evaluar_modelo\n",
    "\n",
    "# --- XGBoost ---\n",
    "xgb_model = xgb.XGBClassifier(n_estimators=200, learning_rate=0.1, max_depth=6, n_jobs=-1, random_state=42)\n",
    "evaluar_modelo(\"XGBoost\", xgb_model, X, y)\n",
    "\n",
    "# Guardar cada fold en CSV\n",
    "with open(os.path.join(ruta_carpeta_actual, \"resultados_xgb.csv\"), \"w\", newline=\"\", encoding=\"utf-8\") as f:\n",
    "    writer = csv.writer(f)\n",
    "    writer.writerow([\"fold\", \"OA\", \"F1_macro\", \"clase_dificil\", \"F1_clases\", \"matriz_confusion\"])\n",
    "    for r in resultados_rf:\n",
    "        writer.writerow([r[\"fold\"], r[\"OA\"], r[\"F1_macro\"], r[\"clase_dificil\"], r[\"F1_clases\"], r[\"matriz_confusion\"].tolist()])\n"
   ]
  }
 ],
 "metadata": {
  "kernelspec": {
   "display_name": "tintoenv",
   "language": "python",
   "name": "python3"
  },
  "language_info": {
   "codemirror_mode": {
    "name": "ipython",
    "version": 3
   },
   "file_extension": ".py",
   "mimetype": "text/x-python",
   "name": "python",
   "nbconvert_exporter": "python",
   "pygments_lexer": "ipython3",
   "version": "3.11.13"
  },
  "orig_nbformat": 4
 },
 "nbformat": 4,
 "nbformat_minor": 2
}
